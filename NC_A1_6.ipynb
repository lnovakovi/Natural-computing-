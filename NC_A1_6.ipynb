{
  "nbformat": 4,
  "nbformat_minor": 0,
  "metadata": {
    "colab": {
      "name": "NC_A1_6.ipynb",
      "provenance": [],
      "collapsed_sections": []
    },
    "kernelspec": {
      "name": "python3",
      "display_name": "Python 3"
    }
  },
  "cells": [
    {
      "cell_type": "markdown",
      "metadata": {
        "id": "459il_HdUu09",
        "colab_type": "text"
      },
      "source": [
        "Rerun the whole notebook and put the txt files in the directory to produce the same results. Hyperparameters can be changed as desired.\n"
      ]
    },
    {
      "cell_type": "code",
      "metadata": {
        "id": "57v72fuJxNuS",
        "colab_type": "code",
        "colab": {}
      },
      "source": [
        "import numpy as np\n",
        "import matplotlib.pyplot as plt\n",
        "import itertools\n",
        "import time\n",
        "np.random.seed(0)"
      ],
      "execution_count": 0,
      "outputs": []
    },
    {
      "cell_type": "code",
      "metadata": {
        "id": "peRo3paBs_eF",
        "colab_type": "code",
        "colab": {}
      },
      "source": [
        "###########Read data##############\n",
        "##Store the coordinates of the cities in a dictionary where keys are the id's \n",
        "##of cities and values are [x,y] coordinates.\n",
        "##A matrix where the entry A_(i,j) corresponds to the euclidian distance\n",
        "##between city i and city j is also created.\n",
        "\n",
        "##14-Staedte in Burma (Zaw Win)\n",
        "#Read Coordinates\n",
        "flag = 0\n",
        "burma_coords = dict()\n",
        "with open(\"burma14.tsp.txt\") as fp: \n",
        "    for line in fp:\n",
        "      if \"NODE_COORD_SECTION\" in line:\n",
        "        flag = 1\n",
        "      elif \"EOF\" in line:\n",
        "        break\n",
        "      elif flag == 1:\n",
        "        line_list = line.strip('\\n').split(\" \")\n",
        "        line_list = list(filter(lambda a: a != '',line_list))\n",
        "        burma_coords.update( {int(line_list[0]): [float(line_list[1]), float(line_list[2])]} )\n",
        "#Calculate euclidian distance\n",
        "burma = np.zeros((14,14))\n",
        "for i in range(1,15):\n",
        "  for j in range(1,15):\n",
        "    burma[i-1][j-1] = np.sqrt((burma_coords[i][0] - burma_coords[j][0])**2 + (burma_coords[i][1] - burma_coords[j][1])**2)\n",
        "\n",
        "##29 Cities in Bavaria, geographical distances (Groetschel,Juenger,Reinelt)\n",
        "#Read Coordinates\n",
        "flag = 0\n",
        "bays_coords = dict()\n",
        "with open(\"bayg29_2.tsp.txt\") as fp: \n",
        "    for line in fp:\n",
        "      if \"DISPLAY_DATA_SECTION\" in line:\n",
        "        flag = 1\n",
        "      elif \"EOF\" in line:\n",
        "        break\n",
        "      elif flag == 1:\n",
        "        line_list = line.strip('\\n').split(\" \")\n",
        "        line_list = list(filter(lambda a: a != '',line_list))\n",
        "        bays_coords.update( {int(line_list[0]): [float(line_list[1]), float(line_list[2])]} )\n",
        "#Calculate euclidian distance\n",
        "bays = np.zeros((29,29))\n",
        "for i in range(1,30):\n",
        "  for j in range(1,30):\n",
        "    bays[i-1][j-1] = np.sqrt((bays_coords[i][0] - bays_coords[j][0])**2 + (bays_coords[i][1] - bays_coords[j][1])**2)"
      ],
      "execution_count": 0,
      "outputs": []
    },
    {
      "cell_type": "code",
      "metadata": {
        "id": "1dge95Of3ixT",
        "colab_type": "code",
        "colab": {}
      },
      "source": [
        "#Calculate the fitness of an individual given the distance matrix.\n",
        "#Sum the distance between each adjacent city in the route.\n",
        "#Fitness is negative of total distance as less distance is better.\n",
        "def fitness(individual,distances):\n",
        "  fitness = 0\n",
        "  for i in range(1,len(individual)):\n",
        "    fitness += distances[int(individual[i]-1)][int(individual[i-1]-1)] \n",
        "  return -1*fitness"
      ],
      "execution_count": 0,
      "outputs": []
    },
    {
      "cell_type": "code",
      "metadata": {
        "id": "hhXSYVxL4SlE",
        "colab_type": "code",
        "colab": {}
      },
      "source": [
        "#Generate an offspring from 2 parents using order crossover.\n",
        "def crossover(parent_1,parent_2):\n",
        "  dim = len(parent_1)\n",
        "  offspring = np.zeros(dim)\n",
        "  #Randomly choose cut points where start < end\n",
        "  start= np.random.randint(low=0, high=dim-2, size=1)[0]\n",
        "  end = np.random.randint(low=start+1, high=dim-1, size=1)[0]\n",
        "  #Copy between cut points to offspring using parent_1\n",
        "  cities_copied = []\n",
        "  for i in range(start, end+1):\n",
        "      offspring[i] = parent_1[i]\n",
        "      cities_copied.append(parent_1[i])\n",
        "  #Fill in missing cities using parent_2\n",
        "  to_be_copied = []\n",
        "  for item in parent_2:\n",
        "    if item not in cities_copied:\n",
        "      to_be_copied.append(item)\n",
        "  j = 0\n",
        "  for i in range(dim):\n",
        "    if offspring[i] == 0:\n",
        "      offspring[i] = to_be_copied[j]\n",
        "      j += 1\n",
        "  return offspring"
      ],
      "execution_count": 0,
      "outputs": []
    },
    {
      "cell_type": "code",
      "metadata": {
        "id": "x0njxMeN7BhS",
        "colab_type": "code",
        "colab": {}
      },
      "source": [
        "#perform reverse sequence mutation\n",
        "def mutation(offspring):\n",
        "  #Pick swap points\n",
        "  a, b = np.random.randint(low=0, high=len(offspring)-1, size=2)\n",
        "  #Swap\n",
        "  temp = offspring[a]\n",
        "  offspring[a] = offspring[b]\n",
        "  offspring[b] = temp\n",
        "  return offspring"
      ],
      "execution_count": 0,
      "outputs": []
    },
    {
      "cell_type": "code",
      "metadata": {
        "id": "IqInB0vG-cLC",
        "colab_type": "code",
        "colab": {}
      },
      "source": [
        "#Binary tournament selection => pick 2 individuals randomly, \n",
        "#put the fittest one to mating pool.\n",
        "def binary_tournament(population,mating_pool_size,distances):\n",
        "  mating_pool = []\n",
        "  counter = 0\n",
        "  #Fill mating pool\n",
        "  while len(mating_pool) != mating_pool_size:\n",
        "    #Pick two individuals randomly\n",
        "    a, b = np.random.randint(low=0, high=len(population), size=2)\n",
        "    fitness_a = fitness(population[a],distances)\n",
        "    fitness_b = fitness(population[b],distances)\n",
        "    counter += 2\n",
        "    if fitness_a > fitness_b:\n",
        "      mating_pool.append(population[a])\n",
        "    else:\n",
        "      mating_pool.append(population[b])\n",
        "  return mating_pool, counter"
      ],
      "execution_count": 0,
      "outputs": []
    },
    {
      "cell_type": "code",
      "metadata": {
        "id": "En3F3grIQ7tq",
        "colab_type": "code",
        "colab": {}
      },
      "source": [
        "#Get best solution from a population.\n",
        "#Return the total distance as well.\n",
        "def get_best(population,distances):\n",
        "  population_size = len(population)\n",
        "  best_solution = population[0]\n",
        "  best_fitness = fitness(population[0],distances)\n",
        "  for i in range(1,population_size):\n",
        "    fitness_score = fitness(population[i],distances)\n",
        "    if best_fitness < fitness_score:\n",
        "      best_fitness = fitness_score\n",
        "      best_solution = population[i]\n",
        "  return best_solution, -1*best_fitness"
      ],
      "execution_count": 0,
      "outputs": []
    },
    {
      "cell_type": "code",
      "metadata": {
        "id": "LH-Td3mil-_l",
        "colab_type": "code",
        "colab": {}
      },
      "source": [
        "#Plot the path of the best solution\n",
        "def plot_path(best_solution,coords):\n",
        "  #Plotting line segments code obtained from:\n",
        "  #https://kite.com/python/answers/how-to-draw-a-line-between-two-points-in-matplotlib-in-python\n",
        "  #Plot line segments\n",
        "  for i in range(1,len(best_solution)):\n",
        "    point1 = coords[int(best_solution[i-1])]\n",
        "    point2 = coords[int(best_solution[i])]\n",
        "    x_values = [point1[0], point2[0]]\n",
        "    y_values = [point1[1], point2[1]]\n",
        "    plt.plot(x_values, y_values,color=\"black\")\n",
        "  #Mark the cities\n",
        "  for item in coords.values():\n",
        "    plt.plot(item[0], item[1], 'bo') \n",
        "  plt.xlabel(\"X Coordinate\")\n",
        "  plt.ylabel(\"Y Coordinate\")\n",
        "  plt.title(\"Best Solution\")\n"
      ],
      "execution_count": 0,
      "outputs": []
    },
    {
      "cell_type": "code",
      "metadata": {
        "id": "zmgVHrfo2itI",
        "colab_type": "code",
        "colab": {}
      },
      "source": [
        "#Simple EA\n",
        "def Simple_EA(num_cities,distances,max_iter,mutation_prob,population_size,mating_pool_size):\n",
        "  #Initialization\n",
        "  counter = 0\n",
        "  population = []\n",
        "  for i in range(population_size):\n",
        "    population.append(np.random.permutation(list(range(1,num_cities+1))))\n",
        "  num_iter = 0\n",
        "  #Terminate when max number of iterations is reached\n",
        "  while num_iter < max_iter: \n",
        "    new_population = []\n",
        "    #Construct the mating pool using binary tournament\n",
        "    mating_pool, counter1 = binary_tournament(population,mating_pool_size,distances)\n",
        "    counter += counter1\n",
        "    #Randomly select parents from mating pool and perform crossover\n",
        "    for i in range(population_size):\n",
        "      parent_1, parent_2 = np.random.randint(low=0, high=mating_pool_size-1,size=2)\n",
        "      offspring = crossover(mating_pool[parent_1],mating_pool[parent_2])\n",
        "      #Perform mutation with certain probability\n",
        "      if np.random.random() <= mutation_prob:\n",
        "        offspring = mutation(offspring)\n",
        "      new_population.append(offspring)\n",
        "    #Generational gap replacement strategy = discard the previous generation completely.\n",
        "    population = new_population\n",
        "    best_solution, best_distance = get_best(population,distances)\n",
        "    #Uncomment line below to make the function verbose\n",
        "    #print(\"Iteration: \" + str(num_iter) +\"\\n\" + \"Best Solution: \" + str(best_solution) + \"\\n\" +  \"Best Distance: \" + str(best_distance))\n",
        "    num_iter += 1\n",
        "  return best_solution, best_distance, num_iter, counter\n"
      ],
      "execution_count": 0,
      "outputs": []
    },
    {
      "cell_type": "code",
      "metadata": {
        "id": "KaSszgyi1fdK",
        "colab_type": "code",
        "colab": {}
      },
      "source": [
        "#Perform local search to optimize each individual in population\n",
        "def local_search(population,distances,path_length):\n",
        "  new_population = []\n",
        "  counter = 0\n",
        "  for item in population:\n",
        "    #pick a random point\n",
        "    checkpoint = np.random.randint(low=0, high=len(population)-path_length, size=1)[0]\n",
        "    #get all the permutations of the subpath starting from the random point \n",
        "    subpath = item[checkpoint:checkpoint+path_length-1]\n",
        "    perms = list(itertools.permutations(subpath))\n",
        "    best_fit = -1\n",
        "    best_score = -100000000\n",
        "    for item2 in perms:\n",
        "      score = fitness(item2,distances)\n",
        "      counter += 1\n",
        "      if best_score < score:\n",
        "        best_fit = item2\n",
        "        best_score = score\n",
        "    #replace subpath by lowest distance subpath\n",
        "    new_item = item\n",
        "    new_item[checkpoint:checkpoint+path_length-1] = best_fit\n",
        "    new_population.append(new_item) \n",
        "  return new_population, counter"
      ],
      "execution_count": 0,
      "outputs": []
    },
    {
      "cell_type": "code",
      "metadata": {
        "id": "7diu9zJwpNuF",
        "colab_type": "code",
        "colab": {}
      },
      "source": [
        "#Memetic Algorithm\n",
        "def Memetic_Algorithms(num_cities,distances,max_iter,mutation_prob,population_size,mating_pool_size,path_length):\n",
        "  #Initialization\n",
        "  population = []\n",
        "  counter = 0\n",
        "  for i in range(population_size):\n",
        "    population.append(np.random.permutation(list(range(1,num_cities+1))))\n",
        "  #do local search on population\n",
        "  population, counter1 = local_search(population,distances,path_length)\n",
        "  num_iter = 0\n",
        "  counter += counter1\n",
        "  #Terminate when max number of iterations is reached\n",
        "  while num_iter < max_iter: \n",
        "    new_population = []\n",
        "    #Construct the mating pool using binary tournament\n",
        "    mating_pool, counter2 = binary_tournament(population,mating_pool_size,distances)\n",
        "    counter += counter2\n",
        "    #Randomly select parents from mating pool and perform crossover\n",
        "    for i in range(population_size):\n",
        "      parent_1, parent_2 = np.random.randint(low=0, high=mating_pool_size-1,size=2)\n",
        "      offspring = crossover(mating_pool[parent_1],mating_pool[parent_2])\n",
        "      #Perform mutation with certain probability\n",
        "      if np.random.random() <= mutation_prob:\n",
        "        offspring = mutation(offspring)\n",
        "      new_population.append(offspring)\n",
        "    #Generational gap replacement strategy = discard the previous generation completely.\n",
        "    #do local search on population\n",
        "    population, counter3 = local_search(new_population,distances,path_length)\n",
        "    counter += counter3\n",
        "    best_solution, best_distance = get_best(population,distances)\n",
        "    #Uncomment line below to make the function verbose\n",
        "    #print(\"Iteration: \" + str(num_iter) +\"\\n\" + \"Best Solution: \" + str(best_solution) + \"\\n\" +  \"Best Distance: \" + str(best_distance))\n",
        "    num_iter += 1\n",
        "  return best_solution, best_distance, num_iter, counter\n"
      ],
      "execution_count": 0,
      "outputs": []
    },
    {
      "cell_type": "code",
      "metadata": {
        "id": "rJv1laZB_TrS",
        "colab_type": "code",
        "colab": {}
      },
      "source": [
        "#Initialize hyperparameters\n",
        "population_size = 1000\n",
        "mutation_prob = 0.01\n",
        "mating_pool_size = 20\n",
        "max_iter = 500\n",
        "distances = bays\n",
        "num_cities = distances.shape[0]"
      ],
      "execution_count": 0,
      "outputs": []
    },
    {
      "cell_type": "code",
      "metadata": {
        "id": "dYoy7fW_VLig",
        "colab_type": "code",
        "colab": {}
      },
      "source": [
        "#averaging of solutions done \n",
        "solutions_EA = []\n",
        "solutions_MA = []"
      ],
      "execution_count": 0,
      "outputs": []
    },
    {
      "cell_type": "code",
      "metadata": {
        "id": "pzB8O2Eo0w2x",
        "colab_type": "code",
        "outputId": "ba4aa37d-61e5-43b8-b373-cb218405fa04",
        "colab": {
          "base_uri": "https://localhost:8080/",
          "height": 697
        }
      },
      "source": [
        "###Simple EA\n",
        "for i in range(10):\n",
        "  start = time.time()\n",
        "  best_solution, best_distance, num_iter, num_evals = Simple_EA(num_cities,distances,max_iter,mutation_prob,population_size,mating_pool_size)\n",
        "  end = time.time()\n",
        "  solutions_EA.append([best_solution, best_distance, (start-end), num_evals])\n",
        "  print(\"Best solution: \" + str(best_solution))\n",
        "  print(\"Minimum Distance: \" + str(best_distance))\n",
        "  print(\"Number of iterations: \" + str(num_iter))"
      ],
      "execution_count": 32,
      "outputs": [
        {
          "output_type": "stream",
          "text": [
            "Best solution: [26. 29.  3. 10. 15. 27.  6.  1. 28. 12.  9.  5.  2. 24.  8. 23. 16. 25.\n",
            "  7. 19.  4. 13. 21. 20. 18. 14. 17. 22. 11.]\n",
            "Minimum Distance: 12241.310340906994\n",
            "Number of iterations: 500\n",
            "Best solution: [ 3. 29.  5. 28.  1. 20. 10. 21. 23.  7. 25. 19. 15.  4. 27.  8. 24. 16.\n",
            " 14. 22. 17. 18.  2. 26.  9. 12.  6. 13. 11.]\n",
            "Minimum Distance: 12795.45401224888\n",
            "Number of iterations: 500\n",
            "Best solution: [21. 24. 23. 27.  8. 28.  1. 29. 26.  3. 11.  7. 25. 19.  4. 10.  2. 20.\n",
            " 17. 22. 14. 18. 15. 16. 13.  5.  9.  6. 12.]\n",
            "Minimum Distance: 12498.467838401602\n",
            "Number of iterations: 500\n",
            "Best solution: [18. 17. 14. 16. 27.  9.  5. 20. 10.  2. 21. 24.  1. 12. 26.  3. 29.  6.\n",
            " 28. 13.  4. 15. 11. 19.  8. 23.  7. 25. 22.]\n",
            "Minimum Distance: 13504.822135725193\n",
            "Number of iterations: 500\n",
            "Best solution: [ 3. 29. 26.  9.  2. 24.  8. 28.  1. 21.  6. 12.  5. 20. 10. 22. 13. 27.\n",
            " 23. 16.  7. 25.  4. 19. 15. 18. 17. 14. 11.]\n",
            "Minimum Distance: 12089.754894737287\n",
            "Number of iterations: 500\n",
            "Best solution: [12.  6.  1. 28.  8. 15. 14.  4. 10. 20.  2. 21.  5.  3. 29. 26.  9. 13.\n",
            " 24. 27. 18. 17. 22. 11. 25. 19. 16.  7. 23.]\n",
            "Minimum Distance: 11708.447083452047\n",
            "Number of iterations: 500\n",
            "Best solution: [12.  6.  9. 26.  3.  2. 21.  5.  1. 28.  8. 16. 25.  7. 23. 27. 24. 13.\n",
            " 15. 14. 22. 17. 18.  4. 20. 29. 10. 19. 11.]\n",
            "Minimum Distance: 11154.013664388242\n",
            "Number of iterations: 500\n",
            "Best solution: [12.  1. 28.  8. 13. 15. 11.  7. 25. 19.  4. 14. 17. 22. 18. 10. 16. 23.\n",
            " 27. 24. 21.  6.  9.  5. 26. 20.  2.  3. 29.]\n",
            "Minimum Distance: 11834.985797317584\n",
            "Number of iterations: 500\n",
            "Best solution: [28.  9. 12.  6.  4. 19. 25.  7. 16.  1. 21. 26. 29.  3.  2. 20. 10. 17.\n",
            " 22. 11. 14. 18. 15. 13. 24. 27. 23.  8.  5.]\n",
            "Minimum Distance: 12135.842965326134\n",
            "Number of iterations: 500\n",
            "Best solution: [ 3. 29. 26. 19. 25.  7. 16. 23. 27.  8. 28. 12.  5. 21. 18. 11. 22. 17.\n",
            " 14. 15.  4.  1.  6.  9.  2. 20. 10. 13. 24.]\n",
            "Minimum Distance: 11869.666587381478\n",
            "Number of iterations: 500\n"
          ],
          "name": "stdout"
        }
      ]
    },
    {
      "cell_type": "code",
      "metadata": {
        "id": "YeeKar0ztq40",
        "colab_type": "code",
        "outputId": "3e439eca-ade8-4bc7-8cd5-ff6bf033ee56",
        "colab": {
          "base_uri": "https://localhost:8080/",
          "height": 697
        }
      },
      "source": [
        "###Memetic\n",
        "for i in range(10):\n",
        "  start = time.time()\n",
        "  best_solution, best_distance, num_iter, num_evals = Memetic_Algorithms(num_cities,distances,max_iter,mutation_prob,population_size,mating_pool_size,8)\n",
        "  end = time.time()\n",
        "  solutions_MA.append([best_solution, best_distance, (start-end), num_evals])\n",
        "  print(\"Best solution: \" + str(best_solution))\n",
        "  print(\"Minimum Distance: \" + str(best_distance))\n",
        "  print(\"Number of iterations: \" + str(num_iter))"
      ],
      "execution_count": 33,
      "outputs": [
        {
          "output_type": "stream",
          "text": [
            "Best solution: [ 3. 29. 26.  5.  8. 27. 16. 13. 10. 20.  2. 21.  9. 12.  6. 28.  1. 24.\n",
            " 23.  7. 25. 19.  4. 15. 11. 22. 14. 18. 17.]\n",
            "Minimum Distance: 9196.040431171275\n",
            "Number of iterations: 500\n",
            "Best solution: [12.  6.  9. 26. 29.  5. 21. 10.  4. 15. 18. 14. 17. 22. 11. 25.  7. 23.\n",
            " 27.  8. 28.  1. 24. 16. 19. 13. 20.  2.  3.]\n",
            "Minimum Distance: 9454.767937433104\n",
            "Number of iterations: 500\n",
            "Best solution: [23. 27.  8. 28.  9.  5. 21.  1. 24. 16. 13. 20. 15. 18. 14. 17. 22. 11.\n",
            "  7. 25. 19.  4. 10.  2. 29.  3. 26.  6. 12.]\n",
            "Minimum Distance: 10039.27753333427\n",
            "Number of iterations: 500\n",
            "Best solution: [12.  6. 24. 16.  4. 15. 11. 22. 17. 14. 20.  2. 29.  3. 26.  9.  5. 21.\n",
            " 28.  1. 13. 10. 18. 19. 25.  7. 23. 27.  8.]\n",
            "Minimum Distance: 10618.799047847826\n",
            "Number of iterations: 500\n",
            "Best solution: [21.  2. 20. 13.  4. 11. 22. 17. 19. 25.  7. 23. 16. 27.  8.  5. 29.  3.\n",
            " 26.  9. 12.  6. 28.  1. 24. 10. 15. 18. 14.]\n",
            "Minimum Distance: 10849.715809214338\n",
            "Number of iterations: 500\n",
            "Best solution: [17. 20. 29.  3. 26.  9. 12.  6.  5.  2. 10. 13. 24. 16. 19.  4. 15. 18.\n",
            " 14. 22. 11. 25.  7. 23. 27.  8. 28.  1. 21.]\n",
            "Minimum Distance: 10109.16777355173\n",
            "Number of iterations: 500\n",
            "Best solution: [23.  7. 25. 16. 24.  8. 28. 12.  5. 21.  2. 20. 29.  3. 26.  9.  6.  1.\n",
            " 27. 13. 10.  4. 19. 15. 18. 14. 17. 22. 11.]\n",
            "Minimum Distance: 9857.08007467273\n",
            "Number of iterations: 500\n",
            "Best solution: [ 7. 23. 28.  1. 24. 13. 15. 18. 14. 17. 22. 11. 19. 16. 27.  8. 29.  3.\n",
            " 20.  4. 10.  2. 21.  5. 26.  9. 12.  6. 25.]\n",
            "Minimum Distance: 11854.457156626831\n",
            "Number of iterations: 500\n",
            "Best solution: [18.  4. 20.  2. 21.  5. 29.  3. 26.  9. 12.  6. 28. 23.  7. 19. 10. 15.\n",
            " 14. 17. 22. 11. 25. 16. 13. 24. 27.  8.  1.]\n",
            "Minimum Distance: 10624.840070919421\n",
            "Number of iterations: 500\n",
            "Best solution: [ 3. 29. 26.  2. 20. 19.  7. 16. 27. 24. 13.  4. 15. 18. 14. 17. 22. 11.\n",
            " 25.  8.  1. 28.  6. 12.  9.  5. 21. 10. 23.]\n",
            "Minimum Distance: 10980.234359174334\n",
            "Number of iterations: 500\n"
          ],
          "name": "stdout"
        }
      ]
    },
    {
      "cell_type": "code",
      "metadata": {
        "id": "8Vi_NwrkU_H6",
        "colab_type": "code",
        "colab": {
          "base_uri": "https://localhost:8080/",
          "height": 731
        },
        "outputId": "fe16eb89-0280-4e44-c65f-fdbab6e34266"
      },
      "source": [
        "print(solutions_EA)\n",
        "print(solutions_MA)"
      ],
      "execution_count": 35,
      "outputs": [
        {
          "output_type": "stream",
          "text": [
            "[[array([26., 29.,  3., 10., 15., 27.,  6.,  1., 28., 12.,  9.,  5.,  2.,\n",
            "       24.,  8., 23., 16., 25.,  7., 19.,  4., 13., 21., 20., 18., 14.,\n",
            "       17., 22., 11.]), 12241.310340906994, -67.11980366706848, 20000], [array([ 3., 29.,  5., 28.,  1., 20., 10., 21., 23.,  7., 25., 19., 15.,\n",
            "        4., 27.,  8., 24., 16., 14., 22., 17., 18.,  2., 26.,  9., 12.,\n",
            "        6., 13., 11.]), 12795.45401224888, -68.56893110275269, 20000], [array([21., 24., 23., 27.,  8., 28.,  1., 29., 26.,  3., 11.,  7., 25.,\n",
            "       19.,  4., 10.,  2., 20., 17., 22., 14., 18., 15., 16., 13.,  5.,\n",
            "        9.,  6., 12.]), 12498.467838401602, -67.89091467857361, 20000], [array([18., 17., 14., 16., 27.,  9.,  5., 20., 10.,  2., 21., 24.,  1.,\n",
            "       12., 26.,  3., 29.,  6., 28., 13.,  4., 15., 11., 19.,  8., 23.,\n",
            "        7., 25., 22.]), 13504.822135725193, -67.17629384994507, 20000], [array([ 3., 29., 26.,  9.,  2., 24.,  8., 28.,  1., 21.,  6., 12.,  5.,\n",
            "       20., 10., 22., 13., 27., 23., 16.,  7., 25.,  4., 19., 15., 18.,\n",
            "       17., 14., 11.]), 12089.754894737287, -66.77111220359802, 20000], [array([12.,  6.,  1., 28.,  8., 15., 14.,  4., 10., 20.,  2., 21.,  5.,\n",
            "        3., 29., 26.,  9., 13., 24., 27., 18., 17., 22., 11., 25., 19.,\n",
            "       16.,  7., 23.]), 11708.447083452047, -66.93905878067017, 20000], [array([12.,  6.,  9., 26.,  3.,  2., 21.,  5.,  1., 28.,  8., 16., 25.,\n",
            "        7., 23., 27., 24., 13., 15., 14., 22., 17., 18.,  4., 20., 29.,\n",
            "       10., 19., 11.]), 11154.013664388242, -66.46748352050781, 20000], [array([12.,  1., 28.,  8., 13., 15., 11.,  7., 25., 19.,  4., 14., 17.,\n",
            "       22., 18., 10., 16., 23., 27., 24., 21.,  6.,  9.,  5., 26., 20.,\n",
            "        2.,  3., 29.]), 11834.985797317584, -66.64760065078735, 20000], [array([28.,  9., 12.,  6.,  4., 19., 25.,  7., 16.,  1., 21., 26., 29.,\n",
            "        3.,  2., 20., 10., 17., 22., 11., 14., 18., 15., 13., 24., 27.,\n",
            "       23.,  8.,  5.]), 12135.842965326134, -66.90614080429077, 20000], [array([ 3., 29., 26., 19., 25.,  7., 16., 23., 27.,  8., 28., 12.,  5.,\n",
            "       21., 18., 11., 22., 17., 14., 15.,  4.,  1.,  6.,  9.,  2., 20.,\n",
            "       10., 13., 24.]), 11869.666587381478, -66.95832896232605, 20000]]\n",
            "[[array([ 3., 29., 26.,  5.,  8., 27., 16., 13., 10., 20.,  2., 21.,  9.,\n",
            "       12.,  6., 28.,  1., 24., 23.,  7., 25., 19.,  4., 15., 11., 22.,\n",
            "       14., 18., 17.]), 9196.040431171275, -650.8967635631561, 59631032], [array([12.,  6.,  9., 26., 29.,  5., 21., 10.,  4., 15., 18., 14., 17.,\n",
            "       22., 11., 25.,  7., 23., 27.,  8., 28.,  1., 24., 16., 19., 13.,\n",
            "       20.,  2.,  3.]), 9454.767937433104, -646.9082832336426, 59298390], [array([23., 27.,  8., 28.,  9.,  5., 21.,  1., 24., 16., 13., 20., 15.,\n",
            "       18., 14., 17., 22., 11.,  7., 25., 19.,  4., 10.,  2., 29.,  3.,\n",
            "       26.,  6., 12.]), 10039.27753333427, -657.9664154052734, 59533550], [array([12.,  6., 24., 16.,  4., 15., 11., 22., 17., 14., 20.,  2., 29.,\n",
            "        3., 26.,  9.,  5., 21., 28.,  1., 13., 10., 18., 19., 25.,  7.,\n",
            "       23., 27.,  8.]), 10618.799047847826, -666.6483631134033, 59885478], [array([21.,  2., 20., 13.,  4., 11., 22., 17., 19., 25.,  7., 23., 16.,\n",
            "       27.,  8.,  5., 29.,  3., 26.,  9., 12.,  6., 28.,  1., 24., 10.,\n",
            "       15., 18., 14.]), 10849.715809214338, -653.6252336502075, 59170119], [array([17., 20., 29.,  3., 26.,  9., 12.,  6.,  5.,  2., 10., 13., 24.,\n",
            "       16., 19.,  4., 15., 18., 14., 22., 11., 25.,  7., 23., 27.,  8.,\n",
            "       28.,  1., 21.]), 10109.16777355173, -661.5932006835938, 60005045], [array([23.,  7., 25., 16., 24.,  8., 28., 12.,  5., 21.,  2., 20., 29.,\n",
            "        3., 26.,  9.,  6.,  1., 27., 13., 10.,  4., 19., 15., 18., 14.,\n",
            "       17., 22., 11.]), 9857.08007467273, -661.1983442306519, 59173041], [array([ 7., 23., 28.,  1., 24., 13., 15., 18., 14., 17., 22., 11., 19.,\n",
            "       16., 27.,  8., 29.,  3., 20.,  4., 10.,  2., 21.,  5., 26.,  9.,\n",
            "       12.,  6., 25.]), 11854.457156626831, -660.0557470321655, 59035341], [array([18.,  4., 20.,  2., 21.,  5., 29.,  3., 26.,  9., 12.,  6., 28.,\n",
            "       23.,  7., 19., 10., 15., 14., 17., 22., 11., 25., 16., 13., 24.,\n",
            "       27.,  8.,  1.]), 10624.840070919421, -656.0671694278717, 59170365], [array([ 3., 29., 26.,  2., 20., 19.,  7., 16., 27., 24., 13.,  4., 15.,\n",
            "       18., 14., 17., 22., 11., 25.,  8.,  1., 28.,  6., 12.,  9.,  5.,\n",
            "       21., 10., 23.]), 10980.234359174334, -666.9332938194275, 60010974]]\n"
          ],
          "name": "stdout"
        }
      ]
    },
    {
      "cell_type": "code",
      "metadata": {
        "id": "oB6iN6CPjMCz",
        "colab_type": "code",
        "colab": {}
      },
      "source": [
        "#Copy best solution here\n",
        "best_solution_EA = [12.,  6.,  9., 26.,  3.,  2., 21.,  5.,  1., 28.,  8., 16., 25.,7., 23., 27., 24., 13., 15., 14., 22., 17., 18.,  4., 20., 29.,10., 19., 11.]\n",
        "best_solution_MA = [ 3., 29., 26.,  5.,  8., 27., 16., 13., 10., 20.,  2., 21.,  9.,12.,  6., 28.,  1., 24., 23.,  7., 25., 19.,  4., 15., 11., 22.,14., 18., 17.]"
      ],
      "execution_count": 0,
      "outputs": []
    },
    {
      "cell_type": "code",
      "metadata": {
        "id": "mrCaVcQejFCH",
        "colab_type": "code",
        "colab": {
          "base_uri": "https://localhost:8080/",
          "height": 295
        },
        "outputId": "f5737ea3-f94f-49f3-bea6-899503dfdb29"
      },
      "source": [
        "plot_path(best_solution_EA,bays_coords)\n"
      ],
      "execution_count": 39,
      "outputs": [
        {
          "output_type": "display_data",
          "data": {
            "image/png": "[encoded data removed]",
            "text/plain": [
              "<Figure size 432x288 with 1 Axes>"
            ]
          },
          "metadata": {
            "tags": []
          }
        }
      ]
    },
    {
      "cell_type": "code",
      "metadata": {
        "id": "cbL4zBsHjGjM",
        "colab_type": "code",
        "colab": {
          "base_uri": "https://localhost:8080/",
          "height": 295
        },
        "outputId": "1f2a008d-4fe5-42b6-938e-66e6f939011a"
      },
      "source": [
        "plot_path(best_solution_MA,bays_coords)"
      ],
      "execution_count": 40,
      "outputs": [
        {
          "output_type": "display_data",
          "data": {
            "image/png": "[encoded data removed]",
            "text/plain": [
              "<Figure size 432x288 with 1 Axes>"
            ]
          },
          "metadata": {
            "tags": []
          }
        }
      ]
    },
    {
      "cell_type": "code",
      "metadata": {
        "id": "Xx0y68hlj4b5",
        "colab_type": "code",
        "colab": {
          "base_uri": "https://localhost:8080/",
          "height": 68
        },
        "outputId": "198c4bfc-da51-459f-964f-c3c048392ada"
      },
      "source": [
        "EA_mbf = solutions_EA[1][1] + solutions_EA[2][1] + solutions_EA[3][1]+ solutions_EA[4][1] + solutions_EA[5][1] + solutions_EA[6][1] + solutions_EA[7][1] + solutions_EA[8][1] + solutions_EA[9][1] + solutions_EA[0][1] \n",
        "EA_mbf = EA_mbf/10.0\n",
        "print(\"EA MBF: \" + str(EA_mbf))\n",
        "EA_aet = solutions_EA[1][2] + solutions_EA[2][2] + solutions_EA[3][2]+ solutions_EA[4][2] + solutions_EA[5][2] + solutions_EA[6][2] + solutions_EA[7][2] + solutions_EA[8][2] + solutions_EA[9][2] + solutions_EA[0][2] \n",
        "EA_aet = EA_aet/-10.0\n",
        "print(\"EA AET: \" + str(EA_aet))\n",
        "EA_aes = solutions_EA[1][3] + solutions_EA[2][3] + solutions_EA[3][3]+ solutions_EA[4][3] + solutions_EA[5][3] + solutions_EA[6][3] + solutions_EA[7][3] + solutions_EA[8][3] + solutions_EA[9][3] + solutions_EA[0][3] \n",
        "EA_aes = EA_aes/10.0\n",
        "print(\"EA AET: \" + str(EA_aes))"
      ],
      "execution_count": 55,
      "outputs": [
        {
          "output_type": "stream",
          "text": [
            "EA MBF: 12183.276531988542\n",
            "EA AET: 67.144566822052\n",
            "EA AET: 20000.0\n"
          ],
          "name": "stdout"
        }
      ]
    },
    {
      "cell_type": "code",
      "metadata": {
        "id": "m2Szqu3sjsPP",
        "colab_type": "code",
        "colab": {
          "base_uri": "https://localhost:8080/",
          "height": 68
        },
        "outputId": "644d6d7d-88c2-4763-fb46-2c68deebd2d2"
      },
      "source": [
        "MA_mbf = solutions_MA[1][1] + solutions_MA[2][1] + solutions_MA[3][1]+ solutions_MA[4][1] + solutions_MA[5][1] + solutions_MA[6][1] + solutions_MA[7][1] + solutions_MA[8][1] + solutions_MA[9][1] + solutions_MA[0][1] \n",
        "MA_mbf = MA_mbf/10.0\n",
        "print(\"MA MBF: \" + str(MA_mbf))\n",
        "MA_aet = solutions_MA[1][2] + solutions_MA[2][2] + solutions_MA[3][2]+ solutions_MA[4][2] + solutions_MA[5][2] + solutions_MA[6][2] + solutions_MA[7][2] + solutions_MA[8][2] + solutions_MA[9][2] + solutions_MA[0][2] \n",
        "MA_aet = MA_aet/-10.0\n",
        "print(\"EM AET: \" + str(MA_aet))\n",
        "MA_aes = solutions_MA[1][3] + solutions_MA[2][3] + solutions_MA[3][3]+ solutions_MA[4][3] + solutions_MA[5][3] + solutions_MA[6][3] + solutions_MA[7][3] + solutions_MA[8][3] + solutions_MA[9][3] + solutions_MA[0][3] \n",
        "MA_aes = MA_aes/10.0\n",
        "print(\"MA AET: \" + str(MA_aes))"
      ],
      "execution_count": 56,
      "outputs": [
        {
          "output_type": "stream",
          "text": [
            "MA MBF: 10358.438019394587\n",
            "EM AET: 658.1892814159394\n",
            "MA AET: 59491333.5\n"
          ],
          "name": "stdout"
        }
      ]
    },
    {
      "cell_type": "code",
      "metadata": {
        "id": "0_AkFzbNl0tc",
        "colab_type": "code",
        "colab": {}
      },
      "source": [
        ""
      ],
      "execution_count": 0,
      "outputs": []
    }
  ]
}