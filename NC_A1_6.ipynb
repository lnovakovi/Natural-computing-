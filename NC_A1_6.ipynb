{
  "nbformat": 4,
  "nbformat_minor": 0,
  "metadata": {
    "colab": {
      "name": "NC_A1_6.ipynb",
      "provenance": [],
      "collapsed_sections": []
    },
    "kernelspec": {
      "name": "python3",
      "display_name": "Python 3"
    }
  },
  "cells": [
    {
      "cell_type": "markdown",
      "metadata": {
        "id": "459il_HdUu09",
        "colab_type": "text"
      },
      "source": [
        "Rerun the whole notebook and put the txt files in the directory to produce the same results. Hyperparameters can be changed as desired.\n"
      ]
    },
    {
      "cell_type": "code",
      "metadata": {
        "id": "57v72fuJxNuS",
        "colab_type": "code",
        "colab": {}
      },
      "source": [
        "import numpy as np\n",
        "import matplotlib.pyplot as plt\n",
        "import itertools\n",
        "import time"
      ],
      "execution_count": 0,
      "outputs": []
    },
    {
      "cell_type": "code",
      "metadata": {
        "id": "peRo3paBs_eF",
        "colab_type": "code",
        "colab": {}
      },
      "source": [
        "###########Read data##############\n",
        "##Store the coordinates of the cities in a dictionary where keys are the id's \n",
        "##of cities and values are [x,y] coordinates.\n",
        "##A matrix where the entry A_(i,j) corresponds to the euclidian distance\n",
        "##between city i and city j is also created.\n",
        "\n",
        "##14-Staedte in Burma (Zaw Win)\n",
        "#Read Coordinates\n",
        "flag = 0\n",
        "burma_coords = dict()\n",
        "with open(\"burma14.tsp.txt\") as fp: \n",
        "    for line in fp:\n",
        "      if \"NODE_COORD_SECTION\" in line:\n",
        "        flag = 1\n",
        "      elif \"EOF\" in line:\n",
        "        break\n",
        "      elif flag == 1:\n",
        "        line_list = line.strip('\\n').split(\" \")\n",
        "        line_list = list(filter(lambda a: a != '',line_list))\n",
        "        burma_coords.update( {int(line_list[0]): [float(line_list[1]), float(line_list[2])]} )\n",
        "#Calculate euclidian distance\n",
        "burma = np.zeros((14,14))\n",
        "for i in range(1,15):\n",
        "  for j in range(1,15):\n",
        "    burma[i-1][j-1] = np.sqrt((burma_coords[i][0] - burma_coords[j][0])**2 + (burma_coords[i][1] - burma_coords[j][1])**2)\n",
        "\n",
        "##29 Cities in Bavaria, geographical distances (Groetschel,Juenger,Reinelt)\n",
        "#Read Coordinates\n",
        "flag = 0\n",
        "bays_coords = dict()\n",
        "with open(\"bayg29_2.tsp.txt\") as fp: \n",
        "    for line in fp:\n",
        "      if \"DISPLAY_DATA_SECTION\" in line:\n",
        "        flag = 1\n",
        "      elif \"EOF\" in line:\n",
        "        break\n",
        "      elif flag == 1:\n",
        "        line_list = line.strip('\\n').split(\" \")\n",
        "        line_list = list(filter(lambda a: a != '',line_list))\n",
        "        bays_coords.update( {int(line_list[0]): [float(line_list[1]), float(line_list[2])]} )\n",
        "#Calculate euclidian distance\n",
        "bays = np.zeros((29,29))\n",
        "for i in range(1,30):\n",
        "  for j in range(1,30):\n",
        "    bays[i-1][j-1] = np.sqrt((bays_coords[i][0] - bays_coords[j][0])**2 + (bays_coords[i][1] - bays_coords[j][1])**2)"
      ],
      "execution_count": 0,
      "outputs": []
    },
    {
      "cell_type": "code",
      "metadata": {
        "id": "1dge95Of3ixT",
        "colab_type": "code",
        "colab": {}
      },
      "source": [
        "#Calculate the fitness of an individual given the distance matrix.\n",
        "#Sum the distance between each adjacent city in the route.\n",
        "#Fitness is negative of total distance as less distance is better.\n",
        "def fitness(individual,distances):\n",
        "  fitness = 0\n",
        "  for i in range(1,len(individual)):\n",
        "    fitness += distances[int(individual[i]-1)][int(individual[i-1]-1)] \n",
        "  return -1*fitness"
      ],
      "execution_count": 0,
      "outputs": []
    },
    {
      "cell_type": "code",
      "metadata": {
        "id": "hhXSYVxL4SlE",
        "colab_type": "code",
        "colab": {}
      },
      "source": [
        "#Generate an offspring from 2 parents using order crossover.\n",
        "def crossover(parent_1,parent_2):\n",
        "  dim = len(parent_1)\n",
        "  offspring = np.zeros(dim)\n",
        "  #Randomly choose cut points where start < end\n",
        "  start= np.random.randint(low=0, high=dim-2, size=1)[0]\n",
        "  end = np.random.randint(low=start+1, high=dim-1, size=1)[0]\n",
        "  #Copy between cut points to offspring using parent_1\n",
        "  cities_copied = []\n",
        "  for i in range(start, end+1):\n",
        "      offspring[i] = parent_1[i]\n",
        "      cities_copied.append(parent_1[i])\n",
        "  #Fill in missing cities using parent_2\n",
        "  to_be_copied = []\n",
        "  for item in parent_2:\n",
        "    if item not in cities_copied:\n",
        "      to_be_copied.append(item)\n",
        "  j = 0\n",
        "  for i in range(dim):\n",
        "    if offspring[i] == 0:\n",
        "      offspring[i] = to_be_copied[j]\n",
        "      j += 1\n",
        "  return offspring"
      ],
      "execution_count": 0,
      "outputs": []
    },
    {
      "cell_type": "code",
      "metadata": {
        "id": "x0njxMeN7BhS",
        "colab_type": "code",
        "colab": {}
      },
      "source": [
        "#perform reverse sequence mutation\n",
        "def mutation(offspring):\n",
        "  #Pick swap points\n",
        "  a, b = np.random.randint(low=0, high=len(offspring)-1, size=2)\n",
        "  #Swap\n",
        "  temp = offspring[a]\n",
        "  offspring[a] = offspring[b]\n",
        "  offspring[b] = temp\n",
        "  return offspring"
      ],
      "execution_count": 0,
      "outputs": []
    },
    {
      "cell_type": "code",
      "metadata": {
        "id": "IqInB0vG-cLC",
        "colab_type": "code",
        "colab": {}
      },
      "source": [
        "#Binary tournament selection => pick 2 individuals randomly, \n",
        "#put the fittest one to mating pool.\n",
        "def binary_tournament(population,mating_pool_size,distances):\n",
        "  mating_pool = []\n",
        "  counter = 0\n",
        "  #Fill mating pool\n",
        "  while len(mating_pool) != mating_pool_size:\n",
        "    #Pick two individuals randomly\n",
        "    a, b = np.random.randint(low=0, high=len(population), size=2)\n",
        "    fitness_a = fitness(population[a],distances)\n",
        "    fitness_b = fitness(population[b],distances)\n",
        "    counter += 2\n",
        "    if fitness_a > fitness_b:\n",
        "      mating_pool.append(population[a])\n",
        "    else:\n",
        "      mating_pool.append(population[b])\n",
        "  return mating_pool, counter"
      ],
      "execution_count": 0,
      "outputs": []
    },
    {
      "cell_type": "code",
      "metadata": {
        "id": "En3F3grIQ7tq",
        "colab_type": "code",
        "colab": {}
      },
      "source": [
        "#Get best solution from a population.\n",
        "#Return the total distance as well.\n",
        "def get_best(population,distances):\n",
        "  population_size = len(population)\n",
        "  best_solution = population[0]\n",
        "  best_fitness = fitness(population[0],distances)\n",
        "  for i in range(1,population_size):\n",
        "    fitness_score = fitness(population[i],distances)\n",
        "    if best_fitness < fitness_score:\n",
        "      best_fitness = fitness_score\n",
        "      best_solution = population[i]\n",
        "  return best_solution, -1*best_fitness"
      ],
      "execution_count": 0,
      "outputs": []
    },
    {
      "cell_type": "code",
      "metadata": {
        "id": "LH-Td3mil-_l",
        "colab_type": "code",
        "colab": {}
      },
      "source": [
        "#Plot the path of the best solution\n",
        "def plot_path(best_solution,coords):\n",
        "  #Plotting line segments code obtained from:\n",
        "  #https://kite.com/python/answers/how-to-draw-a-line-between-two-points-in-matplotlib-in-python\n",
        "  #Plot line segments\n",
        "  for i in range(1,len(best_solution)):\n",
        "    point1 = coords[int(best_solution[i-1])]\n",
        "    point2 = coords[int(best_solution[i])]\n",
        "    x_values = [point1[0], point2[0]]\n",
        "    y_values = [point1[1], point2[1]]\n",
        "    plt.plot(x_values, y_values,color=\"black\")\n",
        "  #Mark the cities\n",
        "  for item in coords.values():\n",
        "    plt.plot(item[0], item[1], 'bo') \n",
        "  plt.xlabel(\"X Coordinate\")\n",
        "  plt.ylabel(\"Y Coordinate\")\n",
        "  plt.title(\"Best Solution\")\n"
      ],
      "execution_count": 0,
      "outputs": []
    },
    {
      "cell_type": "code",
      "metadata": {
        "id": "zmgVHrfo2itI",
        "colab_type": "code",
        "colab": {}
      },
      "source": [
        "#Simple EA\n",
        "def Simple_EA(num_cities,distances,threshold,max_iter,mutation_prob,population_size,mating_pool_size):\n",
        "  #Initialization\n",
        "  counter = 0\n",
        "  population = []\n",
        "  for i in range(population_size):\n",
        "    population.append(np.random.permutation(list(range(1,num_cities+1))))\n",
        "  num_iter = 0\n",
        "  #Terminate when max number of iterations is reached\n",
        "  while num_iter < max_iter: \n",
        "    new_population = []\n",
        "    #Construct the mating pool using binary tournament\n",
        "    mating_pool, counter1 = binary_tournament(population,mating_pool_size,distances)\n",
        "    counter += counter1\n",
        "    #Randomly select parents from mating pool and perform crossover\n",
        "    for i in range(population_size):\n",
        "      parent_1, parent_2 = np.random.randint(low=0, high=mating_pool_size-1,size=2)\n",
        "      offspring = crossover(mating_pool[parent_1],mating_pool[parent_2])\n",
        "      #Perform mutation with certain probability\n",
        "      if np.random.random() <= mutation_prob:\n",
        "        offspring = mutation(offspring)\n",
        "      new_population.append(offspring)\n",
        "    #Generational gap replacement strategy = discard the previous generation completely.\n",
        "    population = new_population\n",
        "    best_solution, best_distance = get_best(population,distances)\n",
        "    #Uncomment line below to make the function verbose\n",
        "    #print(\"Iteration: \" + str(num_iter) +\"\\n\" + \"Best Solution: \" + str(best_solution) + \"\\n\" +  \"Best Distance: \" + str(best_distance))\n",
        "    num_iter += 1\n",
        "  return best_solution, best_distance, num_iter, counter\n"
      ],
      "execution_count": 0,
      "outputs": []
    },
    {
      "cell_type": "code",
      "metadata": {
        "id": "KaSszgyi1fdK",
        "colab_type": "code",
        "colab": {}
      },
      "source": [
        "#Perform local search to optimize each individual in population\n",
        "def local_search(population,distances,path_length):\n",
        "  new_population = []\n",
        "  counter = 0\n",
        "  for item in population:\n",
        "    #pick a random point\n",
        "    checkpoint = np.random.randint(low=0, high=len(population)-path_length, size=1)[0]\n",
        "    #get all the permutations of the subpath starting from the random point \n",
        "    subpath = item[checkpoint:checkpoint+path_length-1]\n",
        "    perms = list(itertools.permutations(subpath))\n",
        "    best_fit = -1\n",
        "    best_score = -100000000\n",
        "    for item2 in perms:\n",
        "      score = fitness(item2,distances)\n",
        "      counter += 1\n",
        "      if best_score < score:\n",
        "        best_fit = item2\n",
        "        best_score = score\n",
        "    #replace subpath by lowest distance subpath\n",
        "    new_item = item\n",
        "    new_item[checkpoint:checkpoint+path_length-1] = best_fit\n",
        "    new_population.append(new_item) \n",
        "  return new_population, counter"
      ],
      "execution_count": 0,
      "outputs": []
    },
    {
      "cell_type": "code",
      "metadata": {
        "id": "7diu9zJwpNuF",
        "colab_type": "code",
        "colab": {}
      },
      "source": [
        "#Memetic Algorithm\n",
        "def Memetic_Algorithms(num_cities,distances,threshold,max_iter,mutation_prob,population_size,mating_pool_size,path_length):\n",
        "  #Initialization\n",
        "  population = []\n",
        "  counter = 0\n",
        "  for i in range(population_size):\n",
        "    population.append(np.random.permutation(list(range(1,num_cities+1))))\n",
        "  #do local search on population\n",
        "  population, counter1 = local_search(population,distances,path_length)\n",
        "  num_iter = 0\n",
        "  counter += counter1\n",
        "  #Terminate when max number of iterations is reached\n",
        "  while num_iter < max_iter: \n",
        "    new_population = []\n",
        "    #Construct the mating pool using binary tournament\n",
        "    mating_pool, counter2 = binary_tournament(population,mating_pool_size,distances)\n",
        "    counter += counter2\n",
        "    #Randomly select parents from mating pool and perform crossover\n",
        "    for i in range(population_size):\n",
        "      parent_1, parent_2 = np.random.randint(low=0, high=mating_pool_size-1,size=2)\n",
        "      offspring = crossover(mating_pool[parent_1],mating_pool[parent_2])\n",
        "      #Perform mutation with certain probability\n",
        "      if np.random.random() <= mutation_prob:\n",
        "        offspring = mutation(offspring)\n",
        "      new_population.append(offspring)\n",
        "    #Generational gap replacement strategy = discard the previous generation completely.\n",
        "    #do local search on population\n",
        "    population, counter3 = local_search(new_population,distances,path_length)\n",
        "    counter += counter3\n",
        "    best_solution, best_distance = get_best(population,distances)\n",
        "    #Uncomment line below to make the function verbose\n",
        "    #print(\"Iteration: \" + str(num_iter) +\"\\n\" + \"Best Solution: \" + str(best_solution) + \"\\n\" +  \"Best Distance: \" + str(best_distance))\n",
        "    num_iter += 1\n",
        "  return best_solution, best_distance, num_iter, counter\n"
      ],
      "execution_count": 0,
      "outputs": []
    },
    {
      "cell_type": "code",
      "metadata": {
        "id": "rJv1laZB_TrS",
        "colab_type": "code",
        "colab": {}
      },
      "source": [
        "#Initialize hyperparameters\n",
        "population_size = 1000\n",
        "mutation_prob = 0.01\n",
        "mating_pool_size = 20\n",
        "max_iter = 500\n",
        "distances = bays\n",
        "num_cities = distances.shape[0]"
      ],
      "execution_count": 0,
      "outputs": []
    },
    {
      "cell_type": "code",
      "metadata": {
        "id": "dYoy7fW_VLig",
        "colab_type": "code",
        "colab": {}
      },
      "source": [
        "#averaging of solutions done \n",
        "solutions_EA = []\n",
        "solutions_MA = []"
      ],
      "execution_count": 0,
      "outputs": []
    },
    {
      "cell_type": "code",
      "metadata": {
        "id": "pzB8O2Eo0w2x",
        "colab_type": "code",
        "colab": {
          "base_uri": "https://localhost:8080/",
          "height": 697
        },
        "outputId": "9a411d73-2793-471d-e514-f75cbfe2073d"
      },
      "source": [
        "###Simple EA\n",
        "for i in range(10):\n",
        "  start = time.time()\n",
        "  best_solution, best_distance, num_iter, num_evals = Simple_EA(num_cities,distances,threshold,max_iter,mutation_prob,population_size,mating_pool_size)\n",
        "  end = time.time()\n",
        "  solutions_EA.append([best_solution, best_distance, (start-end), num_evals])\n",
        "  print(\"Best solution: \" + str(best_solution))\n",
        "  print(\"Minimum Distance: \" + str(best_distance))\n",
        "  print(\"Number of iterations: \" + str(num_iter))"
      ],
      "execution_count": 33,
      "outputs": [
        {
          "output_type": "stream",
          "text": [
            "Best solution: [ 3.  5. 23. 27.  7. 22. 17. 14. 18.  4. 10. 13. 25. 11. 15. 19. 16. 24.\n",
            "  8.  6. 21.  2. 20.  1. 28. 12.  9. 26. 29.]\n",
            "Minimum Distance: 12400.411147806371\n",
            "Number of iterations: 500\n",
            "Best solution: [11. 17. 22. 14. 18. 15. 10.  4. 16. 24.  5. 26. 19. 25.  7. 23.  6. 12.\n",
            "  9.  3. 29.  2. 21. 27.  8. 28.  1. 13. 20.]\n",
            "Minimum Distance: 12520.278920392057\n",
            "Number of iterations: 500\n",
            "Best solution: [18.  2. 29.  3. 26. 21.  5.  9. 12.  1.  8. 28.  6. 17. 22. 14. 25. 16.\n",
            " 27. 24. 13. 11. 15.  4. 20. 10. 19.  7. 23.]\n",
            "Minimum Distance: 12756.420419247681\n",
            "Number of iterations: 500\n",
            "Best solution: [23.  8. 24. 21.  4. 11. 14. 22. 17. 18. 25. 19. 15. 20.  2. 29. 26.  5.\n",
            "  9. 12.  6. 28.  1. 27.  7. 16. 13. 10.  3.]\n",
            "Minimum Distance: 11708.404662143826\n",
            "Number of iterations: 500\n",
            "Best solution: [ 3. 26. 21. 28. 13. 11. 22. 14.  4.  2. 29.  5.  6.  9. 12. 23.  8.  1.\n",
            " 20. 10. 15. 25.  7. 27. 24. 16. 19. 18. 17.]\n",
            "Minimum Distance: 13119.616293528701\n",
            "Number of iterations: 500\n",
            "Best solution: [ 6. 12.  9. 26. 29.  3.  5.  1. 28. 20.  2. 21. 10. 18. 19. 11. 14. 17.\n",
            " 22. 15.  4. 13. 24.  8. 27. 23.  7. 25. 16.]\n",
            "Minimum Distance: 10864.537323869376\n",
            "Number of iterations: 500\n",
            "Best solution: [18. 28.  6.  2. 20. 13. 16.  7. 23. 24.  1. 21.  5. 29.  3. 26.  9. 12.\n",
            " 10.  4. 14. 17. 22. 11. 15. 19. 25. 27.  8.]\n",
            "Minimum Distance: 12367.479210309431\n",
            "Number of iterations: 500\n",
            "Best solution: [22. 17. 14. 12.  6. 21. 19. 25.  7. 23. 16. 24. 28.  5.  9. 26.  3. 29.\n",
            "  2. 27.  8.  1. 13.  4. 10. 20. 18. 15. 11.]\n",
            "Minimum Distance: 12432.680900092944\n",
            "Number of iterations: 500\n",
            "Best solution: [17. 15. 10.  2.  3. 29. 26.  5.  9. 12. 28.  6.  8. 23.  7. 25. 22. 18.\n",
            "  4. 16. 27. 24.  1. 21. 20. 13. 19. 14. 11.]\n",
            "Minimum Distance: 11792.021138788865\n",
            "Number of iterations: 500\n",
            "Best solution: [ 8. 27. 24. 16. 19. 11. 22. 14. 18. 10. 20.  3. 29. 26. 13.  4. 25.  7.\n",
            " 23.  1. 28. 21.  6. 12.  9.  5.  2. 17. 15.]\n",
            "Minimum Distance: 12093.948643203348\n",
            "Number of iterations: 500\n"
          ],
          "name": "stdout"
        }
      ]
    },
    {
      "cell_type": "code",
      "metadata": {
        "id": "YeeKar0ztq40",
        "colab_type": "code",
        "colab": {
          "base_uri": "https://localhost:8080/",
          "height": 697
        },
        "outputId": "f04e4a1d-7146-4a09-eefc-479e32b9c1c5"
      },
      "source": [
        "###Memetic\n",
        "for i in range(10):\n",
        "  start = time.time()\n",
        "  best_solution, best_distance, num_iter, num_evals = Memetic_Algorithms(num_cities,distances,threshold,max_iter,mutation_prob,population_size,mating_pool_size,8)\n",
        "  end = time.time()\n",
        "  solutions_MA.append([best_solution, best_distance, (start-end), num_evals])\n",
        "  print(\"Best solution: \" + str(best_solution))\n",
        "  print(\"Minimum Distance: \" + str(best_distance))\n",
        "  print(\"Number of iterations: \" + str(num_iter))"
      ],
      "execution_count": 34,
      "outputs": [
        {
          "output_type": "stream",
          "text": [
            "Best solution: [ 2. 20. 10.  4. 14. 15. 19. 13.  1. 28.  8. 24. 16. 27. 23.  7. 25. 11.\n",
            " 22. 17. 18. 21.  6. 12.  9.  5. 26. 29.  3.]\n",
            "Minimum Distance: 9918.405038786932\n",
            "Number of iterations: 500\n",
            "Best solution: [ 6.  9. 21. 20. 18. 17. 22.  4. 10.  2. 29.  3. 26.  5.  1. 24. 16. 23.\n",
            " 27.  8. 28. 12. 13. 19. 15. 14. 11. 25.  7.]\n",
            "Minimum Distance: 11401.867575957176\n",
            "Number of iterations: 500\n",
            "Best solution: [13. 21.  2. 18. 14. 17. 22. 11.  7. 19. 15.  4. 10. 20.  6. 12.  1. 24.\n",
            " 16. 25. 23. 27.  8. 28.  5.  9. 26. 29.  3.]\n",
            "Minimum Distance: 10890.807047738865\n",
            "Number of iterations: 500\n",
            "Best solution: [ 3. 29. 26.  2. 13. 25. 19.  4. 15. 18. 14. 17. 22. 11. 16. 27. 24.  6.\n",
            " 12.  9.  5. 21. 20. 10.  1. 28.  8. 23.  7.]\n",
            "Minimum Distance: 10301.702892207393\n",
            "Number of iterations: 500\n",
            "Best solution: [22. 11. 15.  7. 23. 27. 16. 24.  1. 28.  6.  5. 21.  2. 10. 13. 19. 25.\n",
            " 14. 17. 18.  4. 20. 29.  3. 26.  9. 12.  8.]\n",
            "Minimum Distance: 11124.6528485543\n",
            "Number of iterations: 500\n",
            "Best solution: [17. 22. 11. 19. 16. 25.  7. 23. 27.  1.  6. 13.  4. 15. 14. 18. 10. 20.\n",
            "  3. 29.  2. 21. 24.  8. 28. 12.  9.  5. 26.]\n",
            "Minimum Distance: 10762.185152257427\n",
            "Number of iterations: 500\n",
            "Best solution: [ 7. 11. 15. 21.  1.  6.  5. 29.  2. 10. 13. 16. 23. 27.  8. 12.  9. 26.\n",
            "  3. 20.  4. 18. 17. 22. 14. 19. 25. 24. 28.]\n",
            "Minimum Distance: 12280.170535241203\n",
            "Number of iterations: 500\n",
            "Best solution: [23. 27.  8. 13. 18. 14. 17. 22. 11.  7. 25. 15. 21.  6.  9.  5. 26.  3.\n",
            " 29.  2. 20. 10.  4. 19. 16. 24.  1. 28. 12.]\n",
            "Minimum Distance: 10512.986966685834\n",
            "Number of iterations: 500\n",
            "Best solution: [11. 15.  4. 19. 25.  7. 16. 24.  1. 21. 13. 10.  2. 29.  3. 26.  5.  9.\n",
            " 12.  6. 28.  8. 23. 27. 20. 18. 14. 22. 17.]\n",
            "Minimum Distance: 10230.14430681946\n",
            "Number of iterations: 500\n",
            "Best solution: [21. 28.  6. 12.  9.  3. 29.  2.  4. 15. 25. 11. 22. 17. 14. 18. 20. 10.\n",
            " 13. 19.  7. 23.  8. 27. 16. 24.  1.  5. 26.]\n",
            "Minimum Distance: 10834.26287207287\n",
            "Number of iterations: 500\n"
          ],
          "name": "stdout"
        }
      ]
    },
    {
      "cell_type": "code",
      "metadata": {
        "id": "8Vi_NwrkU_H6",
        "colab_type": "code",
        "colab": {}
      },
      "source": [
        "print(solutions_EA)\n",
        "print(solutions_MA)\n",
        "#input best solutions below\n",
        "best_solution_EA = []\n",
        "best_solution_MA = []\n",
        "#Uncomment lines below\n",
        "#plot_path(best_solution_EA,bays_coords)\n",
        "#plot_path(best_solution_MA,bays_coords)"
      ],
      "execution_count": 0,
      "outputs": []
    }
  ]
}