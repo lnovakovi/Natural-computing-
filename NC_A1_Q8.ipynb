{
  "nbformat": 4,
  "nbformat_minor": 0,
  "metadata": {
    "colab": {
      "name": "NC_A1_Q8.ipynb",
      "provenance": [],
      "collapsed_sections": []
    },
    "kernelspec": {
      "name": "python3",
      "display_name": "Python 3"
    }
  },
  "cells": [
    {
      "cell_type": "code",
      "metadata": {
        "id": "R85ZTawVsaUG",
        "colab_type": "code",
        "colab": {
          "base_uri": "https://localhost:8080/",
          "height": 168
        },
        "outputId": "d1672b28-1a3f-4240-916f-6ea3d0348492"
      },
      "source": [
        "# in case imports fail\n",
        "! pip install gplearn"
      ],
      "execution_count": 1,
      "outputs": [
        {
          "output_type": "stream",
          "text": [
            "Collecting gplearn\n",
            "\u001b[?25l  Downloading https://files.pythonhosted.org/packages/43/6b/ee38cd74b32ad5056603aabbef622f9691f19d0869574dfc610034f18662/gplearn-0.4.1-py3-none-any.whl (41kB)\n",
            "\r\u001b[K     |████████                        | 10kB 17.4MB/s eta 0:00:01\r\u001b[K     |███████████████▉                | 20kB 1.8MB/s eta 0:00:01\r\u001b[K     |███████████████████████▊        | 30kB 2.1MB/s eta 0:00:01\r\u001b[K     |███████████████████████████████▊| 40kB 2.4MB/s eta 0:00:01\r\u001b[K     |████████████████████████████████| 51kB 2.2MB/s \n",
            "\u001b[?25hRequirement already satisfied: joblib>=0.13.0 in /usr/local/lib/python3.6/dist-packages (from gplearn) (0.14.1)\n",
            "Requirement already satisfied: scikit-learn>=0.20.0 in /usr/local/lib/python3.6/dist-packages (from gplearn) (0.22.1)\n",
            "Requirement already satisfied: numpy>=1.11.0 in /usr/local/lib/python3.6/dist-packages (from scikit-learn>=0.20.0->gplearn) (1.17.5)\n",
            "Requirement already satisfied: scipy>=0.17.0 in /usr/local/lib/python3.6/dist-packages (from scikit-learn>=0.20.0->gplearn) (1.4.1)\n",
            "Installing collected packages: gplearn\n",
            "Successfully installed gplearn-0.4.1\n"
          ],
          "name": "stdout"
        }
      ]
    },
    {
      "cell_type": "code",
      "metadata": {
        "id": "wBKlYEz6sEUY",
        "colab_type": "code",
        "colab": {}
      },
      "source": [
        "import matplotlib.pyplot as plt\n",
        "import math\n",
        "import numpy as np\n",
        "import gplearn as gp\n",
        "from gplearn.genetic import SymbolicRegressor\n",
        "import graphviz"
      ],
      "execution_count": 0,
      "outputs": []
    },
    {
      "cell_type": "code",
      "metadata": {
        "id": "46aYZVg5sfh2",
        "colab_type": "code",
        "colab": {}
      },
      "source": [
        "# genrate inputs\n",
        "dependent_var = [x/10 for x in range(-10, 11, 1)]\n",
        "\n",
        "# target values\n",
        "Y = [0.0000,\n",
        "    -0.1629,\n",
        "    -0.2624,\n",
        "    -0.3129,\n",
        "    -0.3264,\n",
        "    -0.3125,\n",
        "    -0.2784,\n",
        "    -0.2289,\n",
        "    -0.1664,\n",
        "    -0.0909,\n",
        "    0.0,\n",
        "    0.1111,\n",
        "    0.2496,\n",
        "    0.4251,\n",
        "    0.6496,\n",
        "    0.9375,\n",
        "    1.3056,\n",
        "    1.7731,\n",
        "    2.3616,\n",
        "    3.0951,\n",
        "    4.0000]"
      ],
      "execution_count": 0,
      "outputs": []
    },
    {
      "cell_type": "code",
      "metadata": {
        "id": "2mk0O3_HssDs",
        "colab_type": "code",
        "colab": {
          "base_uri": "https://localhost:8080/",
          "height": 312
        },
        "outputId": "c70ebe33-b146-4151-d88b-282405e36f0b"
      },
      "source": [
        "# plot original function\n",
        "plt.figure()\n",
        "plt.scatter(dependent_var, Y)\n",
        "plt.plot(dependent_var, Y)\n",
        "plt.xticks(ticks=dependent_var, rotation = 60)\n",
        "plt.xlabel('Input')\n",
        "plt.ylabel('Output')"
      ],
      "execution_count": 45,
      "outputs": [
        {
          "output_type": "execute_result",
          "data": {
            "text/plain": [
              "Text(0, 0.5, 'Output')"
            ]
          },
          "metadata": {
            "tags": []
          },
          "execution_count": 45
        },
        {
          "output_type": "display_data",
          "data": {
            "image/png": "[encoded data removed]",
            "text/plain": [
              "<Figure size 432x288 with 1 Axes>"
            ]
          },
          "metadata": {
            "tags": []
          }
        }
      ]
    },
    {
      "cell_type": "code",
      "metadata": {
        "id": "tBAxIhANyUki",
        "colab_type": "code",
        "colab": {}
      },
      "source": [
        "# custom exp() function as gplearn does not provide one \n",
        "def exp_func(x):\n",
        "    with np.errstate(over='ignore'):\n",
        "      return np.where(np.abs(x) < 100, np.exp(x), 0.)"
      ],
      "execution_count": 0,
      "outputs": []
    },
    {
      "cell_type": "code",
      "metadata": {
        "id": "sNi1iTT2zSGH",
        "colab_type": "code",
        "colab": {}
      },
      "source": [
        "# custom function to calculate the negative sum of absolute errors\n",
        "def sum_ab_e(y, y_pred, w):\n",
        "    return -np.sum(np.abs(np.subtract(y, y_pred)))"
      ],
      "execution_count": 0,
      "outputs": []
    },
    {
      "cell_type": "code",
      "metadata": {
        "id": "dop-h229synM",
        "colab_type": "code",
        "colab": {}
      },
      "source": [
        "# initialise algorithmn and hyprerparameters\n",
        "# random state for reproducability\n",
        "# parsimony controls bloat\n",
        "\n",
        "exp = gp.functions.make_function(exp_func, 'exp', 1)\n",
        "sum_ab = gp.fitness.make_fitness(sum_ab_e, greater_is_better=True)\n",
        "\n",
        "est_gp = SymbolicRegressor(population_size=1000,\n",
        "                           init_method = 'half and half',\n",
        "                           generations=50, \n",
        "                           stopping_criteria=0.00,\n",
        "                           p_crossover=0.7, \n",
        "                           p_subtree_mutation=0.0,\n",
        "                           p_hoist_mutation=0.0, \n",
        "                           p_point_mutation=0.0,\n",
        "                           function_set = ('add', 'sub', 'div', 'mul', 'log', 'cos', 'sin', exp),\n",
        "                           metric = sum_ab,\n",
        "                           verbose=1,\n",
        "                           parsimony_coefficient=0.01, \n",
        "                           random_state=0)"
      ],
      "execution_count": 0,
      "outputs": []
    },
    {
      "cell_type": "code",
      "metadata": {
        "id": "EiWDXwZyyEnd",
        "colab_type": "code",
        "colab": {
          "base_uri": "https://localhost:8080/",
          "height": 907
        },
        "outputId": "9bd0d037-b071-4c99-b49b-9d046b6f3f88"
      },
      "source": [
        "# fit model\n",
        "reg = est_gp.fit(np.array(dependent_var).reshape(-1, 1), np.array(Y))"
      ],
      "execution_count": 86,
      "outputs": [
        {
          "output_type": "stream",
          "text": [
            "    |   Population Average    |             Best Individual              |\n",
            "---- ------------------------- ------------------------------------------ ----------\n",
            " Gen   Length          Fitness   Length          Fitness      OOB Fitness  Time Left\n",
            "   0    15.98     -4.03552e+20       11         -7.22823              N/A     39.73s\n",
            "   1    12.52         -76.7605       13         -4.12617              N/A     30.15s\n",
            "   2    12.63     -2.53867e+22       17         -3.96273              N/A     30.14s\n",
            "   3    11.71     -1.57659e+09       15         -3.57492              N/A     30.29s\n",
            "   4    13.74     -2.27807e+09       16         -3.29565              N/A     30.60s\n",
            "   5    16.69     -7.45321e+08       16         -3.29565              N/A     31.01s\n",
            "   6    16.55     -5.37445e+08       16         -3.14993              N/A     33.75s\n",
            "   7    15.55     -4.16726e+08       16         -3.14993              N/A     30.58s\n",
            "   8    15.10     -1.04643e+08       16         -3.14993              N/A     29.69s\n",
            "   9    14.81         -12.9799       16         -3.14993              N/A     27.10s\n",
            "  10    15.86         -10.2491       19         -3.05749              N/A     28.03s\n",
            "  11    15.91         -9.37009       19          -2.7131              N/A     25.91s\n",
            "  12    16.36         -9.83954       19          -2.7131              N/A     26.28s\n",
            "  13    18.21         -9.50684       19          -2.7131              N/A     25.97s\n",
            "  14    18.92         -9.51326       24         -2.40267              N/A     25.19s\n",
            "  15    19.40         -8.54859       24         -2.40267              N/A     24.19s\n",
            "  16    22.49         -7.42153       29         -2.33602              N/A     27.49s\n",
            "  17    23.83         -7.44058       29         -2.23972              N/A     22.63s\n",
            "  18    23.98          -7.2356       28         -2.17897              N/A     24.10s\n",
            "  19    22.11         -7.49639       28         -2.17897              N/A     22.00s\n",
            "  20    25.89         -6.34695       27         -2.11596              N/A     22.61s\n",
            "  21    27.10         -6.79202       27         -2.11596              N/A     22.53s\n",
            "  22    27.27         -6.80147       27         -2.11596              N/A     20.61s\n",
            "  23    27.11         -7.05121       27         -2.11596              N/A     19.63s\n",
            "  24    26.28         -6.75713       27         -2.11596              N/A     18.79s\n",
            "  25    25.69         -6.91065       27         -2.11596              N/A     19.16s\n",
            "  26    26.31         -6.23447       26         -2.11656              N/A     16.92s\n",
            "  27    25.71         -6.17549       26         -2.11656              N/A     17.07s\n",
            "  28    25.51         -6.64555       26         -2.11656              N/A     16.40s\n",
            "  29    25.56          -5.9516       26         -2.11656              N/A     15.96s\n",
            "  30    26.07         -6.27706       26         -2.11656              N/A     14.30s\n",
            "  31    25.76         -6.55365       26         -2.11656              N/A     14.07s\n",
            "  32    25.88         -6.35799       26         -2.11656              N/A     12.89s\n",
            "  33    26.09          -6.4772       26         -2.11656              N/A     11.78s\n",
            "  34    25.71         -6.20448       26         -2.11656              N/A     11.91s\n",
            "  35    25.74         -6.23583       26         -2.11656              N/A     12.66s\n",
            "  36    25.98         -6.12189       26         -2.11656              N/A     10.01s\n",
            "  37    25.83         -6.51691       26         -2.11656              N/A      9.34s\n",
            "  38    26.56         -6.44691       26         -2.11656              N/A      8.55s\n",
            "  39    26.09         -6.29878       26         -2.11656              N/A      7.72s\n",
            "  40    26.05         -6.15849       26         -2.11656              N/A      6.95s\n",
            "  41    25.61         -6.62137       26         -2.11656              N/A      6.22s\n",
            "  42    26.03         -6.30995       26         -2.11656              N/A      5.65s\n",
            "  43    26.20          -6.4729       26         -2.11656              N/A      4.69s\n",
            "  44    25.81         -6.31785       26         -2.11656              N/A      3.95s\n",
            "  45    26.08         -6.74698       26         -2.11656              N/A      3.14s\n",
            "  46    25.86         -6.26064       26         -2.11656              N/A      2.42s\n",
            "  47    26.09         -6.44705       26         -2.11656              N/A      1.56s\n",
            "  48    25.97         -6.16203       26         -2.11656              N/A      0.79s\n",
            "  49    25.96         -6.68721       26         -2.11656              N/A      0.00s\n"
          ],
          "name": "stdout"
        }
      ]
    },
    {
      "cell_type": "code",
      "metadata": {
        "id": "Yxvgsz5P2nps",
        "colab_type": "code",
        "colab": {
          "base_uri": "https://localhost:8080/",
          "height": 34
        },
        "outputId": "0a86b91c-22f8-4b93-cc7d-db6a9bc96a18"
      },
      "source": [
        "# print the found symbolic expression\n",
        "print(reg._program)"
      ],
      "execution_count": 87,
      "outputs": [
        {
          "output_type": "stream",
          "text": [
            "mul(sin(add(sin(add(add(X0, sin(add(X0, 0.425))), sin(add(X0, 0.425)))), X0)), mul(add(X0, 0.425), mul(exp(X0), add(X0, 0.122))))\n"
          ],
          "name": "stdout"
        }
      ]
    },
    {
      "cell_type": "code",
      "metadata": {
        "id": "OJ5Ghenq5WjL",
        "colab_type": "code",
        "colab": {}
      },
      "source": [
        "# Use learned function to calculate values\n",
        "def learned_func(x):\n",
        "  return reg.predict(np.array(x).reshape(-1,1))"
      ],
      "execution_count": 0,
      "outputs": []
    },
    {
      "cell_type": "code",
      "metadata": {
        "id": "zg7_9R8z4cDT",
        "colab_type": "code",
        "colab": {
          "base_uri": "https://localhost:8080/",
          "height": 312
        },
        "outputId": "d864f732-3fb7-415b-8b82-052eb92e6431"
      },
      "source": [
        "# visualise function output\n",
        "plt.figure()\n",
        "plt.scatter(dependent_var, learned_func(dependent_var))\n",
        "plt.plot(dependent_var,  learned_func(dependent_var))\n",
        "plt.xticks(ticks=dependent_var, rotation = 60)\n",
        "plt.xlabel('Input')\n",
        "plt.ylabel('Output')"
      ],
      "execution_count": 89,
      "outputs": [
        {
          "output_type": "execute_result",
          "data": {
            "text/plain": [
              "Text(0, 0.5, 'Output')"
            ]
          },
          "metadata": {
            "tags": []
          },
          "execution_count": 89
        },
        {
          "output_type": "display_data",
          "data": {
            "image/png": "[encoded data removed]",
            "text/plain": [
              "<Figure size 432x288 with 1 Axes>"
            ]
          },
          "metadata": {
            "tags": []
          }
        }
      ]
    },
    {
      "cell_type": "code",
      "metadata": {
        "id": "qs0u_NsG2_q3",
        "colab_type": "code",
        "colab": {
          "base_uri": "https://localhost:8080/",
          "height": 848
        },
        "outputId": "6d36c1dd-5c99-4185-b427-affece3d7f1a"
      },
      "source": [
        "# visualise symbolic expression\n",
        "dot_data = reg._program.export_graphviz()\n",
        "graph = graphviz.Source(dot_data)\n",
        "#graph.render('images/ex1_child', format='png', cleanup=True)\n",
        "graph"
      ],
      "execution_count": 90,
      "outputs": [
        {
          "output_type": "execute_result",
          "data": {
            "text/plain": [
              "<graphviz.files.Source at 0x7f5a5cad01d0>"
            ],
            "image/svg+xml": "<?xml version=\"1.0\" encoding=\"UTF-8\" standalone=\"no\"?>\n<!DOCTYPE svg PUBLIC \"-//W3C//DTD SVG 1.1//EN\"\n \"http://www.w3.org/Graphics/SVG/1.1/DTD/svg11.dtd\">\n<!-- Generated by graphviz version 2.40.1 (20161225.0304)\n -->\n<!-- Title: program Pages: 1 -->\n<svg width=\"622pt\" height=\"620pt\"\n viewBox=\"0.00 0.00 622.50 620.00\" xmlns=\"http://www.w3.org/2000/svg\" xmlns:xlink=\"http://www.w3.org/1999/xlink\">\n<g id=\"graph0\" class=\"graph\" transform=\"scale(1 1) rotate(0) translate(4 616)\">\n<title>program</title>\n<polygon fill=\"#ffffff\" stroke=\"transparent\" points=\"-4,4 -4,-616 618.4971,-616 618.4971,4 -4,4\"/>\n<!-- 0 -->\n<g id=\"node1\" class=\"node\">\n<title>0</title>\n<ellipse fill=\"#136ed4\" stroke=\"#000000\" cx=\"263\" cy=\"-594\" rx=\"27\" ry=\"18\"/>\n<text text-anchor=\"middle\" x=\"263\" y=\"-590.3\" font-family=\"Times,serif\" font-size=\"14.00\" fill=\"#000000\">mul</text>\n</g>\n<!-- 1 -->\n<g id=\"node2\" class=\"node\">\n<title>1</title>\n<ellipse fill=\"#136ed4\" stroke=\"#000000\" cx=\"227\" cy=\"-522\" rx=\"27\" ry=\"18\"/>\n<text text-anchor=\"middle\" x=\"227\" y=\"-518.3\" font-family=\"Times,serif\" font-size=\"14.00\" fill=\"#000000\">sin</text>\n</g>\n<!-- 0&#45;&gt;1 -->\n<g id=\"edge25\" class=\"edge\">\n<title>0&#45;&gt;1</title>\n<path fill=\"none\" stroke=\"#000000\" d=\"M254.2854,-576.5708C250.0403,-568.0807 244.8464,-557.6929 240.1337,-548.2674\"/>\n<polygon fill=\"#000000\" stroke=\"#000000\" points=\"243.237,-546.6477 235.6343,-539.2687 236.976,-549.7782 243.237,-546.6477\"/>\n</g>\n<!-- 16 -->\n<g id=\"node17\" class=\"node\">\n<title>16</title>\n<ellipse fill=\"#136ed4\" stroke=\"#000000\" cx=\"318\" cy=\"-522\" rx=\"27\" ry=\"18\"/>\n<text text-anchor=\"middle\" x=\"318\" y=\"-518.3\" font-family=\"Times,serif\" font-size=\"14.00\" fill=\"#000000\">mul</text>\n</g>\n<!-- 0&#45;&gt;16 -->\n<g id=\"edge24\" class=\"edge\">\n<title>0&#45;&gt;16</title>\n<path fill=\"none\" stroke=\"#000000\" d=\"M275.4804,-577.6621C282.5124,-568.4564 291.4347,-556.7764 299.2883,-546.4953\"/>\n<polygon fill=\"#000000\" stroke=\"#000000\" points=\"302.28,-548.3446 305.569,-538.2733 296.7172,-544.0953 302.28,-548.3446\"/>\n</g>\n<!-- 2 -->\n<g id=\"node3\" class=\"node\">\n<title>2</title>\n<ellipse fill=\"#136ed4\" stroke=\"#000000\" cx=\"207\" cy=\"-450\" rx=\"27\" ry=\"18\"/>\n<text text-anchor=\"middle\" x=\"207\" y=\"-446.3\" font-family=\"Times,serif\" font-size=\"14.00\" fill=\"#000000\">add</text>\n</g>\n<!-- 1&#45;&gt;2 -->\n<g id=\"edge14\" class=\"edge\">\n<title>1&#45;&gt;2</title>\n<path fill=\"none\" stroke=\"#000000\" d=\"M222.0562,-504.2022C219.8206,-496.1541 217.1274,-486.4588 214.6407,-477.5067\"/>\n<polygon fill=\"#000000\" stroke=\"#000000\" points=\"218.0051,-476.541 211.9563,-467.8425 211.2605,-478.4145 218.0051,-476.541\"/>\n</g>\n<!-- 3 -->\n<g id=\"node4\" class=\"node\">\n<title>3</title>\n<ellipse fill=\"#136ed4\" stroke=\"#000000\" cx=\"135\" cy=\"-378\" rx=\"27\" ry=\"18\"/>\n<text text-anchor=\"middle\" x=\"135\" y=\"-374.3\" font-family=\"Times,serif\" font-size=\"14.00\" fill=\"#000000\">sin</text>\n</g>\n<!-- 2&#45;&gt;3 -->\n<g id=\"edge13\" class=\"edge\">\n<title>2&#45;&gt;3</title>\n<path fill=\"none\" stroke=\"#000000\" d=\"M191.7307,-434.7307C181.803,-424.803 168.6847,-411.6847 157.5637,-400.5637\"/>\n<polygon fill=\"#000000\" stroke=\"#000000\" points=\"159.7933,-397.8436 150.2473,-393.2473 154.8436,-402.7933 159.7933,-397.8436\"/>\n</g>\n<!-- 15 -->\n<g id=\"node16\" class=\"node\">\n<title>15</title>\n<ellipse fill=\"#60a6f6\" stroke=\"#000000\" cx=\"207\" cy=\"-378\" rx=\"27\" ry=\"18\"/>\n<text text-anchor=\"middle\" x=\"207\" y=\"-374.3\" font-family=\"Times,serif\" font-size=\"14.00\" fill=\"#000000\">X0</text>\n</g>\n<!-- 2&#45;&gt;15 -->\n<g id=\"edge12\" class=\"edge\">\n<title>2&#45;&gt;15</title>\n<path fill=\"none\" stroke=\"#000000\" d=\"M207,-431.8314C207,-424.131 207,-414.9743 207,-406.4166\"/>\n<polygon fill=\"#000000\" stroke=\"#000000\" points=\"210.5001,-406.4132 207,-396.4133 203.5001,-406.4133 210.5001,-406.4132\"/>\n</g>\n<!-- 4 -->\n<g id=\"node5\" class=\"node\">\n<title>4</title>\n<ellipse fill=\"#136ed4\" stroke=\"#000000\" cx=\"135\" cy=\"-306\" rx=\"27\" ry=\"18\"/>\n<text text-anchor=\"middle\" x=\"135\" y=\"-302.3\" font-family=\"Times,serif\" font-size=\"14.00\" fill=\"#000000\">add</text>\n</g>\n<!-- 3&#45;&gt;4 -->\n<g id=\"edge11\" class=\"edge\">\n<title>3&#45;&gt;4</title>\n<path fill=\"none\" stroke=\"#000000\" d=\"M135,-359.8314C135,-352.131 135,-342.9743 135,-334.4166\"/>\n<polygon fill=\"#000000\" stroke=\"#000000\" points=\"138.5001,-334.4132 135,-324.4133 131.5001,-334.4133 138.5001,-334.4132\"/>\n</g>\n<!-- 5 -->\n<g id=\"node6\" class=\"node\">\n<title>5</title>\n<ellipse fill=\"#136ed4\" stroke=\"#000000\" cx=\"99\" cy=\"-234\" rx=\"27\" ry=\"18\"/>\n<text text-anchor=\"middle\" x=\"99\" y=\"-230.3\" font-family=\"Times,serif\" font-size=\"14.00\" fill=\"#000000\">add</text>\n</g>\n<!-- 4&#45;&gt;5 -->\n<g id=\"edge10\" class=\"edge\">\n<title>4&#45;&gt;5</title>\n<path fill=\"none\" stroke=\"#000000\" d=\"M126.2854,-288.5708C122.0403,-280.0807 116.8464,-269.6929 112.1337,-260.2674\"/>\n<polygon fill=\"#000000\" stroke=\"#000000\" points=\"115.237,-258.6477 107.6343,-251.2687 108.976,-261.7782 115.237,-258.6477\"/>\n</g>\n<!-- 11 -->\n<g id=\"node12\" class=\"node\">\n<title>11</title>\n<ellipse fill=\"#136ed4\" stroke=\"#000000\" cx=\"171\" cy=\"-234\" rx=\"27\" ry=\"18\"/>\n<text text-anchor=\"middle\" x=\"171\" y=\"-230.3\" font-family=\"Times,serif\" font-size=\"14.00\" fill=\"#000000\">sin</text>\n</g>\n<!-- 4&#45;&gt;11 -->\n<g id=\"edge9\" class=\"edge\">\n<title>4&#45;&gt;11</title>\n<path fill=\"none\" stroke=\"#000000\" d=\"M143.7146,-288.5708C147.9597,-280.0807 153.1536,-269.6929 157.8663,-260.2674\"/>\n<polygon fill=\"#000000\" stroke=\"#000000\" points=\"161.024,-261.7782 162.3657,-251.2687 154.763,-258.6477 161.024,-261.7782\"/>\n</g>\n<!-- 6 -->\n<g id=\"node7\" class=\"node\">\n<title>6</title>\n<ellipse fill=\"#60a6f6\" stroke=\"#000000\" cx=\"27\" cy=\"-162\" rx=\"27\" ry=\"18\"/>\n<text text-anchor=\"middle\" x=\"27\" y=\"-158.3\" font-family=\"Times,serif\" font-size=\"14.00\" fill=\"#000000\">X0</text>\n</g>\n<!-- 5&#45;&gt;6 -->\n<g id=\"edge5\" class=\"edge\">\n<title>5&#45;&gt;6</title>\n<path fill=\"none\" stroke=\"#000000\" d=\"M83.7307,-218.7307C73.803,-208.803 60.6847,-195.6847 49.5637,-184.5637\"/>\n<polygon fill=\"#000000\" stroke=\"#000000\" points=\"51.7933,-181.8436 42.2473,-177.2473 46.8436,-186.7933 51.7933,-181.8436\"/>\n</g>\n<!-- 7 -->\n<g id=\"node8\" class=\"node\">\n<title>7</title>\n<ellipse fill=\"#136ed4\" stroke=\"#000000\" cx=\"99\" cy=\"-162\" rx=\"27\" ry=\"18\"/>\n<text text-anchor=\"middle\" x=\"99\" y=\"-158.3\" font-family=\"Times,serif\" font-size=\"14.00\" fill=\"#000000\">sin</text>\n</g>\n<!-- 5&#45;&gt;7 -->\n<g id=\"edge4\" class=\"edge\">\n<title>5&#45;&gt;7</title>\n<path fill=\"none\" stroke=\"#000000\" d=\"M99,-215.8314C99,-208.131 99,-198.9743 99,-190.4166\"/>\n<polygon fill=\"#000000\" stroke=\"#000000\" points=\"102.5001,-190.4132 99,-180.4133 95.5001,-190.4133 102.5001,-190.4132\"/>\n</g>\n<!-- 8 -->\n<g id=\"node9\" class=\"node\">\n<title>8</title>\n<ellipse fill=\"#136ed4\" stroke=\"#000000\" cx=\"99\" cy=\"-90\" rx=\"27\" ry=\"18\"/>\n<text text-anchor=\"middle\" x=\"99\" y=\"-86.3\" font-family=\"Times,serif\" font-size=\"14.00\" fill=\"#000000\">add</text>\n</g>\n<!-- 7&#45;&gt;8 -->\n<g id=\"edge3\" class=\"edge\">\n<title>7&#45;&gt;8</title>\n<path fill=\"none\" stroke=\"#000000\" d=\"M99,-143.8314C99,-136.131 99,-126.9743 99,-118.4166\"/>\n<polygon fill=\"#000000\" stroke=\"#000000\" points=\"102.5001,-118.4132 99,-108.4133 95.5001,-118.4133 102.5001,-118.4132\"/>\n</g>\n<!-- 9 -->\n<g id=\"node10\" class=\"node\">\n<title>9</title>\n<ellipse fill=\"#60a6f6\" stroke=\"#000000\" cx=\"61\" cy=\"-18\" rx=\"27\" ry=\"18\"/>\n<text text-anchor=\"middle\" x=\"61\" y=\"-14.3\" font-family=\"Times,serif\" font-size=\"14.00\" fill=\"#000000\">X0</text>\n</g>\n<!-- 8&#45;&gt;9 -->\n<g id=\"edge2\" class=\"edge\">\n<title>8&#45;&gt;9</title>\n<path fill=\"none\" stroke=\"#000000\" d=\"M89.9945,-72.937C85.5172,-64.4537 80.0048,-54.0092 74.993,-44.513\"/>\n<polygon fill=\"#000000\" stroke=\"#000000\" points=\"77.9678,-42.6509 70.2048,-35.4407 71.7771,-45.9182 77.9678,-42.6509\"/>\n</g>\n<!-- 10 -->\n<g id=\"node11\" class=\"node\">\n<title>10</title>\n<ellipse fill=\"#60a6f6\" stroke=\"#000000\" cx=\"138\" cy=\"-18\" rx=\"32.4942\" ry=\"18\"/>\n<text text-anchor=\"middle\" x=\"138\" y=\"-14.3\" font-family=\"Times,serif\" font-size=\"14.00\" fill=\"#000000\">0.425</text>\n</g>\n<!-- 8&#45;&gt;10 -->\n<g id=\"edge1\" class=\"edge\">\n<title>8&#45;&gt;10</title>\n<path fill=\"none\" stroke=\"#000000\" d=\"M108.2425,-72.937C112.8376,-64.4537 118.495,-54.0092 123.6388,-44.513\"/>\n<polygon fill=\"#000000\" stroke=\"#000000\" points=\"126.8676,-45.9006 128.553,-35.4407 120.7126,-42.5666 126.8676,-45.9006\"/>\n</g>\n<!-- 12 -->\n<g id=\"node13\" class=\"node\">\n<title>12</title>\n<ellipse fill=\"#136ed4\" stroke=\"#000000\" cx=\"171\" cy=\"-162\" rx=\"27\" ry=\"18\"/>\n<text text-anchor=\"middle\" x=\"171\" y=\"-158.3\" font-family=\"Times,serif\" font-size=\"14.00\" fill=\"#000000\">add</text>\n</g>\n<!-- 11&#45;&gt;12 -->\n<g id=\"edge8\" class=\"edge\">\n<title>11&#45;&gt;12</title>\n<path fill=\"none\" stroke=\"#000000\" d=\"M171,-215.8314C171,-208.131 171,-198.9743 171,-190.4166\"/>\n<polygon fill=\"#000000\" stroke=\"#000000\" points=\"174.5001,-190.4132 171,-180.4133 167.5001,-190.4133 174.5001,-190.4132\"/>\n</g>\n<!-- 13 -->\n<g id=\"node14\" class=\"node\">\n<title>13</title>\n<ellipse fill=\"#60a6f6\" stroke=\"#000000\" cx=\"171\" cy=\"-90\" rx=\"27\" ry=\"18\"/>\n<text text-anchor=\"middle\" x=\"171\" y=\"-86.3\" font-family=\"Times,serif\" font-size=\"14.00\" fill=\"#000000\">X0</text>\n</g>\n<!-- 12&#45;&gt;13 -->\n<g id=\"edge7\" class=\"edge\">\n<title>12&#45;&gt;13</title>\n<path fill=\"none\" stroke=\"#000000\" d=\"M171,-143.8314C171,-136.131 171,-126.9743 171,-118.4166\"/>\n<polygon fill=\"#000000\" stroke=\"#000000\" points=\"174.5001,-118.4132 171,-108.4133 167.5001,-118.4133 174.5001,-118.4132\"/>\n</g>\n<!-- 14 -->\n<g id=\"node15\" class=\"node\">\n<title>14</title>\n<ellipse fill=\"#60a6f6\" stroke=\"#000000\" cx=\"248\" cy=\"-90\" rx=\"32.4942\" ry=\"18\"/>\n<text text-anchor=\"middle\" x=\"248\" y=\"-86.3\" font-family=\"Times,serif\" font-size=\"14.00\" fill=\"#000000\">0.425</text>\n</g>\n<!-- 12&#45;&gt;14 -->\n<g id=\"edge6\" class=\"edge\">\n<title>12&#45;&gt;14</title>\n<path fill=\"none\" stroke=\"#000000\" d=\"M186.9544,-147.0816C197.5782,-137.1477 211.7381,-123.9072 223.7458,-112.6793\"/>\n<polygon fill=\"#000000\" stroke=\"#000000\" points=\"226.3532,-115.033 231.2669,-105.6465 221.5722,-109.92 226.3532,-115.033\"/>\n</g>\n<!-- 17 -->\n<g id=\"node18\" class=\"node\">\n<title>17</title>\n<ellipse fill=\"#136ed4\" stroke=\"#000000\" cx=\"318\" cy=\"-450\" rx=\"27\" ry=\"18\"/>\n<text text-anchor=\"middle\" x=\"318\" y=\"-446.3\" font-family=\"Times,serif\" font-size=\"14.00\" fill=\"#000000\">add</text>\n</g>\n<!-- 16&#45;&gt;17 -->\n<g id=\"edge23\" class=\"edge\">\n<title>16&#45;&gt;17</title>\n<path fill=\"none\" stroke=\"#000000\" d=\"M318,-503.8314C318,-496.131 318,-486.9743 318,-478.4166\"/>\n<polygon fill=\"#000000\" stroke=\"#000000\" points=\"321.5001,-478.4132 318,-468.4133 314.5001,-478.4133 321.5001,-478.4132\"/>\n</g>\n<!-- 20 -->\n<g id=\"node21\" class=\"node\">\n<title>20</title>\n<ellipse fill=\"#136ed4\" stroke=\"#000000\" cx=\"433\" cy=\"-450\" rx=\"27\" ry=\"18\"/>\n<text text-anchor=\"middle\" x=\"433\" y=\"-446.3\" font-family=\"Times,serif\" font-size=\"14.00\" fill=\"#000000\">mul</text>\n</g>\n<!-- 16&#45;&gt;20 -->\n<g id=\"edge22\" class=\"edge\">\n<title>16&#45;&gt;20</title>\n<path fill=\"none\" stroke=\"#000000\" d=\"M337.7692,-509.6228C356.1178,-498.1349 383.6439,-480.9012 404.3906,-467.912\"/>\n<polygon fill=\"#000000\" stroke=\"#000000\" points=\"406.4854,-470.7299 413.1039,-462.4567 402.7707,-464.7968 406.4854,-470.7299\"/>\n</g>\n<!-- 18 -->\n<g id=\"node19\" class=\"node\">\n<title>18</title>\n<ellipse fill=\"#60a6f6\" stroke=\"#000000\" cx=\"279\" cy=\"-378\" rx=\"27\" ry=\"18\"/>\n<text text-anchor=\"middle\" x=\"279\" y=\"-374.3\" font-family=\"Times,serif\" font-size=\"14.00\" fill=\"#000000\">X0</text>\n</g>\n<!-- 17&#45;&gt;18 -->\n<g id=\"edge16\" class=\"edge\">\n<title>17&#45;&gt;18</title>\n<path fill=\"none\" stroke=\"#000000\" d=\"M308.7575,-432.937C304.0463,-424.2393 298.2183,-413.4799 292.9722,-403.7948\"/>\n<polygon fill=\"#000000\" stroke=\"#000000\" points=\"296.0165,-402.0664 288.1761,-394.9405 289.8615,-405.4005 296.0165,-402.0664\"/>\n</g>\n<!-- 19 -->\n<g id=\"node20\" class=\"node\">\n<title>19</title>\n<ellipse fill=\"#60a6f6\" stroke=\"#000000\" cx=\"356\" cy=\"-378\" rx=\"32.4942\" ry=\"18\"/>\n<text text-anchor=\"middle\" x=\"356\" y=\"-374.3\" font-family=\"Times,serif\" font-size=\"14.00\" fill=\"#000000\">0.425</text>\n</g>\n<!-- 17&#45;&gt;19 -->\n<g id=\"edge15\" class=\"edge\">\n<title>17&#45;&gt;19</title>\n<path fill=\"none\" stroke=\"#000000\" d=\"M327.0055,-432.937C331.4828,-424.4537 336.9952,-414.0092 342.007,-404.513\"/>\n<polygon fill=\"#000000\" stroke=\"#000000\" points=\"345.2229,-405.9182 346.7952,-395.4407 339.0322,-402.6509 345.2229,-405.9182\"/>\n</g>\n<!-- 21 -->\n<g id=\"node22\" class=\"node\">\n<title>21</title>\n<ellipse fill=\"#136ed4\" stroke=\"#000000\" cx=\"433\" cy=\"-378\" rx=\"27\" ry=\"18\"/>\n<text text-anchor=\"middle\" x=\"433\" y=\"-374.3\" font-family=\"Times,serif\" font-size=\"14.00\" fill=\"#000000\">exp</text>\n</g>\n<!-- 20&#45;&gt;21 -->\n<g id=\"edge21\" class=\"edge\">\n<title>20&#45;&gt;21</title>\n<path fill=\"none\" stroke=\"#000000\" d=\"M433,-431.8314C433,-424.131 433,-414.9743 433,-406.4166\"/>\n<polygon fill=\"#000000\" stroke=\"#000000\" points=\"436.5001,-406.4132 433,-396.4133 429.5001,-406.4133 436.5001,-406.4132\"/>\n</g>\n<!-- 23 -->\n<g id=\"node24\" class=\"node\">\n<title>23</title>\n<ellipse fill=\"#136ed4\" stroke=\"#000000\" cx=\"505\" cy=\"-378\" rx=\"27\" ry=\"18\"/>\n<text text-anchor=\"middle\" x=\"505\" y=\"-374.3\" font-family=\"Times,serif\" font-size=\"14.00\" fill=\"#000000\">add</text>\n</g>\n<!-- 20&#45;&gt;23 -->\n<g id=\"edge20\" class=\"edge\">\n<title>20&#45;&gt;23</title>\n<path fill=\"none\" stroke=\"#000000\" d=\"M448.2693,-434.7307C458.197,-424.803 471.3153,-411.6847 482.4363,-400.5637\"/>\n<polygon fill=\"#000000\" stroke=\"#000000\" points=\"485.1564,-402.7933 489.7527,-393.2473 480.2067,-397.8436 485.1564,-402.7933\"/>\n</g>\n<!-- 22 -->\n<g id=\"node23\" class=\"node\">\n<title>22</title>\n<ellipse fill=\"#60a6f6\" stroke=\"#000000\" cx=\"433\" cy=\"-306\" rx=\"27\" ry=\"18\"/>\n<text text-anchor=\"middle\" x=\"433\" y=\"-302.3\" font-family=\"Times,serif\" font-size=\"14.00\" fill=\"#000000\">X0</text>\n</g>\n<!-- 21&#45;&gt;22 -->\n<g id=\"edge17\" class=\"edge\">\n<title>21&#45;&gt;22</title>\n<path fill=\"none\" stroke=\"#000000\" d=\"M433,-359.8314C433,-352.131 433,-342.9743 433,-334.4166\"/>\n<polygon fill=\"#000000\" stroke=\"#000000\" points=\"436.5001,-334.4132 433,-324.4133 429.5001,-334.4133 436.5001,-334.4132\"/>\n</g>\n<!-- 24 -->\n<g id=\"node25\" class=\"node\">\n<title>24</title>\n<ellipse fill=\"#60a6f6\" stroke=\"#000000\" cx=\"505\" cy=\"-306\" rx=\"27\" ry=\"18\"/>\n<text text-anchor=\"middle\" x=\"505\" y=\"-302.3\" font-family=\"Times,serif\" font-size=\"14.00\" fill=\"#000000\">X0</text>\n</g>\n<!-- 23&#45;&gt;24 -->\n<g id=\"edge19\" class=\"edge\">\n<title>23&#45;&gt;24</title>\n<path fill=\"none\" stroke=\"#000000\" d=\"M505,-359.8314C505,-352.131 505,-342.9743 505,-334.4166\"/>\n<polygon fill=\"#000000\" stroke=\"#000000\" points=\"508.5001,-334.4132 505,-324.4133 501.5001,-334.4133 508.5001,-334.4132\"/>\n</g>\n<!-- 25 -->\n<g id=\"node26\" class=\"node\">\n<title>25</title>\n<ellipse fill=\"#60a6f6\" stroke=\"#000000\" cx=\"582\" cy=\"-306\" rx=\"32.4942\" ry=\"18\"/>\n<text text-anchor=\"middle\" x=\"582\" y=\"-302.3\" font-family=\"Times,serif\" font-size=\"14.00\" fill=\"#000000\">0.122</text>\n</g>\n<!-- 23&#45;&gt;25 -->\n<g id=\"edge18\" class=\"edge\">\n<title>23&#45;&gt;25</title>\n<path fill=\"none\" stroke=\"#000000\" d=\"M520.9544,-363.0816C531.5782,-353.1477 545.7381,-339.9072 557.7458,-328.6793\"/>\n<polygon fill=\"#000000\" stroke=\"#000000\" points=\"560.3532,-331.033 565.2669,-321.6465 555.5722,-325.92 560.3532,-331.033\"/>\n</g>\n</g>\n</svg>\n"
          },
          "metadata": {
            "tags": []
          },
          "execution_count": 90
        }
      ]
    },
    {
      "cell_type": "code",
      "metadata": {
        "id": "H4Xix7OhJ4zd",
        "colab_type": "code",
        "colab": {}
      },
      "source": [
        "# retrieve generations, length and fitness of best per generation\n",
        "info = reg.run_details_\n",
        "best_length = info.get('best_length')\n",
        "best_fitness = info.get('best_fitness')\n",
        "gens = info.get('generation')"
      ],
      "execution_count": 0,
      "outputs": []
    },
    {
      "cell_type": "code",
      "metadata": {
        "id": "_lHonZFoKNzK",
        "colab_type": "code",
        "colab": {
          "base_uri": "https://localhost:8080/",
          "height": 296
        },
        "outputId": "aad321da-cf39-444d-c21c-ff72fed7480c"
      },
      "source": [
        "# visualise best fitness per generation\n",
        "plt.figure()\n",
        "plt.plot(gens,  best_length)\n",
        "plt.xlabel('Generation')\n",
        "plt.ylabel('Best of generation fitness')"
      ],
      "execution_count": 92,
      "outputs": [
        {
          "output_type": "execute_result",
          "data": {
            "text/plain": [
              "Text(0, 0.5, 'Best of generation fitness')"
            ]
          },
          "metadata": {
            "tags": []
          },
          "execution_count": 92
        },
        {
          "output_type": "display_data",
          "data": {
            "image/png": "[encoded data removed]",
            "text/plain": [
              "<Figure size 432x288 with 1 Axes>"
            ]
          },
          "metadata": {
            "tags": []
          }
        }
      ]
    },
    {
      "cell_type": "code",
      "metadata": {
        "id": "yLNd3aKdLNEH",
        "colab_type": "code",
        "colab": {
          "base_uri": "https://localhost:8080/",
          "height": 296
        },
        "outputId": "15b12d94-a43a-4cef-8c37-8057d2b3da61"
      },
      "source": [
        "# visualise best length per generation\n",
        "plt.figure()\n",
        "plt.plot(gens, best_fitness)\n",
        "plt.xlabel('Generation')\n",
        "plt.ylabel('Best of generation fitness')"
      ],
      "execution_count": 93,
      "outputs": [
        {
          "output_type": "execute_result",
          "data": {
            "text/plain": [
              "Text(0, 0.5, 'Best of generation fitness')"
            ]
          },
          "metadata": {
            "tags": []
          },
          "execution_count": 93
        },
        {
          "output_type": "display_data",
          "data": {
            "image/png": "[encoded data removed]",
            "text/plain": [
              "<Figure size 432x288 with 1 Axes>"
            ]
          },
          "metadata": {
            "tags": []
          }
        }
      ]
    },
    {
      "cell_type": "code",
      "metadata": {
        "id": "T5_mLStULYP-",
        "colab_type": "code",
        "colab": {}
      },
      "source": [
        ""
      ],
      "execution_count": 0,
      "outputs": []
    }
  ]
}