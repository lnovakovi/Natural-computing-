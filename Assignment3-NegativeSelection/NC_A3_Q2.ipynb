{
  "nbformat": 4,
  "nbformat_minor": 0,
  "metadata": {
    "colab": {
      "name": "NC_A3_Q2.ipynb",
      "provenance": [],
      "collapsed_sections": []
    },
    "kernelspec": {
      "name": "python3",
      "display_name": "Python 3"
    }
  },
  "cells": [
    {
      "cell_type": "markdown",
      "metadata": {
        "id": "0mm5lOqonF4Z",
        "colab_type": "text"
      },
      "source": [
        "# 2. Intrusion Detection for Unix Processe"
      ]
    },
    {
      "cell_type": "markdown",
      "metadata": {
        "id": "tslA97E53qvE",
        "colab_type": "text"
      },
      "source": [
        "For training, we will use all substrings of a fixed length 7 as it is the shortest line. To be able to use the program, we will create a new text file as the training set."
      ]
    },
    {
      "cell_type": "code",
      "metadata": {
        "id": "1rsmw_gmsm09",
        "colab_type": "code",
        "colab": {
          "base_uri": "https://localhost:8080/",
          "height": 34
        },
        "outputId": "db6f2d0d-cfd2-48ca-df4b-76c2936d32f8"
      },
      "source": [
        "print(\"Minimum length: \",min([len(item) for item in open(\"snd-cert.train\").read().splitlines()]))"
      ],
      "execution_count": 112,
      "outputs": [
        {
          "output_type": "stream",
          "text": [
            "Minimum length:  7\n"
          ],
          "name": "stdout"
        }
      ]
    },
    {
      "cell_type": "code",
      "metadata": {
        "id": "Aqhkg1Q__Tg6",
        "colab_type": "code",
        "colab": {}
      },
      "source": [
        "n = 7"
      ],
      "execution_count": 0,
      "outputs": []
    },
    {
      "cell_type": "code",
      "metadata": {
        "id": "vkljANoj5TMA",
        "colab_type": "code",
        "colab": {}
      },
      "source": [
        "train_str = \"\"\n",
        "with open(\"snd-cert.train\") as f:\n",
        "  for line in f.readlines():\n",
        "    for substr in [line.strip()[x:x+n] for x in range(0, len(line.strip())//n*n, n)]:\n",
        "      train_str += substr + \"\\n\"\n",
        "train_str = train_str[:-1]\n",
        "with open(\"cert.train\",\"w\") as f:\n",
        "  f.write(train_str) "
      ],
      "execution_count": 0,
      "outputs": []
    },
    {
      "cell_type": "markdown",
      "metadata": {
        "id": "dhjX6SkI_wjH",
        "colab_type": "text"
      },
      "source": [
        "We will also merge the test sets in one file. We have to split each sample in the test set into chunks of length 7 and average over anomaly scores to get the final score. For this purpose, we will have an extra array, ```test_enumerate```. This array will tell us which line belongs to which sample."
      ]
    },
    {
      "cell_type": "code",
      "metadata": {
        "id": "wvYrA4AC8Q4z",
        "colab_type": "code",
        "colab": {}
      },
      "source": [
        "test_set = []\n",
        "test_labels = []\n",
        "for i in range(1,4):\n",
        "  with open(\"snd-cert.\"+str(i)+\".test\") as f:\n",
        "    test_set += f.read().splitlines() \n",
        "  with open(\"snd-cert.\"+str(i)+\".labels\") as f:\n",
        "    test_labels += f.read().splitlines() "
      ],
      "execution_count": 0,
      "outputs": []
    },
    {
      "cell_type": "code",
      "metadata": {
        "id": "R-ZpNVHg-FXk",
        "colab_type": "code",
        "colab": {}
      },
      "source": [
        "test_enumerate = []\n",
        "ind = 0\n",
        "test_str = \"\""
      ],
      "execution_count": 0,
      "outputs": []
    },
    {
      "cell_type": "code",
      "metadata": {
        "id": "3OEwU-Ds-TS-",
        "colab_type": "code",
        "colab": {}
      },
      "source": [
        "for i in range(len(test_set)):\n",
        "  sample = test_set[i]\n",
        "  for substr in [sample[x:x+n] for x in range(0, len(sample)//n*n, n)]:\n",
        "      test_str += substr + \"\\n\"\n",
        "      test_enumerate.append(ind)\n",
        "  ind += 1\n",
        "test_str = test_str[:-1]\n",
        "with open(\"cert.test\",\"w\") as f:\n",
        "  f.write(test_str) "
      ],
      "execution_count": 0,
      "outputs": []
    },
    {
      "cell_type": "code",
      "metadata": {
        "id": "lpaJj5a_lNry",
        "colab_type": "code",
        "colab": {}
      },
      "source": [
        "#Convert labels to integer\n",
        "test_labels = list(map(int, test_labels)) "
      ],
      "execution_count": 0,
      "outputs": []
    },
    {
      "cell_type": "markdown",
      "metadata": {
        "id": "T02rPuQWAOsI",
        "colab_type": "text"
      },
      "source": [
        "Now, we will train the negative selection algorithm using \"cert.train\" and calculate the anomaly scores for the file \"cert.test\". We will store the output in text files. We will also try different r values.\n",
        "\n",
        "```\n",
        "for i in range(1,6)\n",
        "  java -jar negsel2.jar  -alphabet file://snd-cert.alpha  -self cert.train -n 7 -r 4 -c -l < cert.test > out_cert_test_i.txt\n",
        "```\n",
        "\n",
        "We will create a list called ```tuples```similar to first part of the assignment. Number of elements of this list will be equal to number of test samples we have. If a sample is not an anomaly, it will be appended as ```(0,score)``` and if it is an anomaly it will be appended as ```(1,score)```."
      ]
    },
    {
      "cell_type": "code",
      "metadata": {
        "id": "wW6ppAqdkMOT",
        "colab_type": "code",
        "colab": {}
      },
      "source": [
        "import matplotlib.pyplot as plt\n",
        "from sklearn.metrics import auc"
      ],
      "execution_count": 0,
      "outputs": []
    },
    {
      "cell_type": "code",
      "metadata": {
        "id": "7WVCNWVtBEFx",
        "colab_type": "code",
        "colab": {}
      },
      "source": [
        "def get_tuples(filename,ind,test_enumerate,test_labels):\n",
        "  scores = []\n",
        "  with open(filename) as f:\n",
        "    scores = f.read().splitlines() \n",
        "  tuples = []\n",
        "  file_index = 0\n",
        "  for curr_ind in range(ind):\n",
        "    sum_scores = 0\n",
        "    num_subsamples = 0\n",
        "    while file_index < len(test_enumerate) and test_enumerate[file_index] == curr_ind:\n",
        "      sum_scores += float(scores[file_index])\n",
        "      num_subsamples += 1\n",
        "      file_index +=1\n",
        "    tuples.append((str(test_labels[curr_ind]), round(sum_scores/num_subsamples,2)))\n",
        "  tuples.sort(key=lambda tup: tup[1])\n",
        "  num_nonself = sum(test_labels)\n",
        "  num_self = len(test_labels) - sum(test_labels)\n",
        "  return num_self, num_nonself, tuples"
      ],
      "execution_count": 0,
      "outputs": []
    },
    {
      "cell_type": "code",
      "metadata": {
        "id": "0CTGN0afj5L-",
        "colab_type": "code",
        "colab": {}
      },
      "source": [
        "def sens_spec(norm_self,norm_nonself,tuples):\n",
        "  sens, spec = [], []\n",
        "  for (label, val) in tuples:\n",
        "    anom_count, norm_count = 0, 0\n",
        "    for (label2, val2) in tuples:\n",
        "        if label2 == \"1\" and val < val2:\n",
        "            anom_count += 1\n",
        "        if label2 == \"0\" and val > val2:\n",
        "            norm_count += 1\n",
        "    sens.append((100/norm_nonself)*anom_count)\n",
        "    spec.append((100/norm_self)*norm_count)\n",
        "  return sens,spec"
      ],
      "execution_count": 0,
      "outputs": []
    },
    {
      "cell_type": "code",
      "metadata": {
        "id": "GqZoq4rDkJBg",
        "colab_type": "code",
        "colab": {}
      },
      "source": [
        "def plot_auc(sens,spec):\n",
        "  print(\"AUC: \",auc([1-x/100 for x in spec],[x/100 for x in sens]))\n",
        "  plt.plot([1-x/100 for x in spec],[x/100 for x in sens])\n",
        "  plt.plot([x/10 for x in range(0,11,1)], [x/10 for x in range(0,11,1)],'--', color='orange')\n",
        "  plt.ylabel('sensitivity')\n",
        "  plt.xlabel('1-specificity')\n",
        "  plt.show()"
      ],
      "execution_count": 0,
      "outputs": []
    },
    {
      "cell_type": "code",
      "metadata": {
        "id": "-UCHkGVqiCSk",
        "colab_type": "code",
        "colab": {
          "base_uri": "https://localhost:8080/",
          "height": 296
        },
        "outputId": "69928386-d067-42fd-b092-ade603d8f452"
      },
      "source": [
        "num_self, num_nonself, tuples = get_tuples(\"out_cert_test_2.txt\",ind,test_enumerate,test_labels)\n",
        "sens,spec = sens_spec(num_self,num_nonself,tuples)\n",
        "plot_auc(sens,spec)"
      ],
      "execution_count": 95,
      "outputs": [
        {
          "output_type": "stream",
          "text": [
            "AUC:  0.9479806451612902\n"
          ],
          "name": "stdout"
        },
        {
          "output_type": "display_data",
          "data": {
            "image/png": "[encoded data removed]",
            "text/plain": [
              "<Figure size 432x288 with 1 Axes>"
            ]
          },
          "metadata": {
            "tags": []
          }
        }
      ]
    },
    {
      "cell_type": "code",
      "metadata": {
        "id": "AkIezQq5lUvb",
        "colab_type": "code",
        "colab": {
          "base_uri": "https://localhost:8080/",
          "height": 296
        },
        "outputId": "7c52ac2f-35ec-4319-9024-96be2c58a57a"
      },
      "source": [
        "num_self, num_nonself, tuples = get_tuples(\"out_cert_test_3.txt\",ind,test_enumerate,test_labels)\n",
        "sens,spec = sens_spec(num_self,num_nonself,tuples)\n",
        "plot_auc(sens,spec)"
      ],
      "execution_count": 96,
      "outputs": [
        {
          "output_type": "stream",
          "text": [
            "AUC:  0.9617634408602149\n"
          ],
          "name": "stdout"
        },
        {
          "output_type": "display_data",
          "data": {
            "image/png": "[encoded data removed]",
            "text/plain": [
              "<Figure size 432x288 with 1 Axes>"
            ]
          },
          "metadata": {
            "tags": []
          }
        }
      ]
    },
    {
      "cell_type": "code",
      "metadata": {
        "id": "dnM83gYWlU55",
        "colab_type": "code",
        "colab": {
          "base_uri": "https://localhost:8080/",
          "height": 296
        },
        "outputId": "f24d4660-4824-4ef5-cda3-1f92c755979a"
      },
      "source": [
        "num_self, num_nonself, tuples = get_tuples(\"out_cert_test_4.txt\",ind,test_enumerate,test_labels)\n",
        "sens,spec = sens_spec(num_self,num_nonself,tuples)\n",
        "plot_auc(sens,spec)"
      ],
      "execution_count": 97,
      "outputs": [
        {
          "output_type": "stream",
          "text": [
            "AUC:  0.9618301075268816\n"
          ],
          "name": "stdout"
        },
        {
          "output_type": "display_data",
          "data": {
            "image/png": "[encoded data removed]",
            "text/plain": [
              "<Figure size 432x288 with 1 Axes>"
            ]
          },
          "metadata": {
            "tags": []
          }
        }
      ]
    },
    {
      "cell_type": "code",
      "metadata": {
        "id": "My2AcbIElVZE",
        "colab_type": "code",
        "colab": {
          "base_uri": "https://localhost:8080/",
          "height": 296
        },
        "outputId": "6026f277-3040-41b8-cb5c-aff05ed7da65"
      },
      "source": [
        "num_self, num_nonself, tuples = get_tuples(\"out_cert_test_5.txt\",ind,test_enumerate,test_labels)\n",
        "sens,spec = sens_spec(num_self,num_nonself,tuples)\n",
        "plot_auc(sens,spec)"
      ],
      "execution_count": 98,
      "outputs": [
        {
          "output_type": "stream",
          "text": [
            "AUC:  0.9617419354838708\n"
          ],
          "name": "stdout"
        },
        {
          "output_type": "display_data",
          "data": {
            "image/png": "[encoded data removed]",
            "text/plain": [
              "<Figure size 432x288 with 1 Axes>"
            ]
          },
          "metadata": {
            "tags": []
          }
        }
      ]
    },
    {
      "cell_type": "markdown",
      "metadata": {
        "id": "QvPESs9DlcSP",
        "colab_type": "text"
      },
      "source": [
        "The best results are obtained using r=4. Now we will do the same procedure for the other dataset as well."
      ]
    },
    {
      "cell_type": "code",
      "metadata": {
        "id": "gHV3WjiFrxwC",
        "colab_type": "code",
        "colab": {
          "base_uri": "https://localhost:8080/",
          "height": 34
        },
        "outputId": "7f291bbe-73a3-4d27-b23f-37e9d7122bff"
      },
      "source": [
        "print(\"Minimum length: \",min([len(item) for item in open(\"snd-unm.train\").read().splitlines()]))"
      ],
      "execution_count": 111,
      "outputs": [
        {
          "output_type": "stream",
          "text": [
            "Minimum length:  7\n"
          ],
          "name": "stdout"
        }
      ]
    },
    {
      "cell_type": "code",
      "metadata": {
        "id": "vF6CZWf3lsoH",
        "colab_type": "code",
        "colab": {}
      },
      "source": [
        "train_str = \"\"\n",
        "with open(\"snd-unm.train\") as f:\n",
        "  for line in f.readlines():\n",
        "    for substr in [line.strip()[x:x+n] for x in range(0, len(line.strip())//n*n, n)]:\n",
        "      train_str += substr + \"\\n\"\n",
        "train_str = train_str[:-1]\n",
        "with open(\"unm.train\",\"w\") as f:\n",
        "  f.write(train_str) \n",
        "\n",
        "test_set = []\n",
        "test_labels = []\n",
        "for i in range(1,4):\n",
        "  with open(\"snd-unm.\"+str(i)+\".test\") as f:\n",
        "    test_set += f.read().splitlines() \n",
        "  with open(\"snd-unm.\"+str(i)+\".labels\") as f:\n",
        "    test_labels += f.read().splitlines() \n",
        "\n",
        "test_enumerate = []\n",
        "ind = 0\n",
        "test_str = \"\"\n",
        "\n",
        "for i in range(len(test_set)):\n",
        "  sample = test_set[i]\n",
        "  for substr in [sample[x:x+n] for x in range(0, len(sample)//n*n, n)]:\n",
        "      test_str += substr + \"\\n\"\n",
        "      test_enumerate.append(ind)\n",
        "  ind += 1\n",
        "test_str = test_str[:-1]\n",
        "with open(\"unm.test\",\"w\") as f:\n",
        "  f.write(test_str) \n",
        "\n",
        "#Convert labels to integer\n",
        "test_labels = list(map(int, test_labels)) "
      ],
      "execution_count": 0,
      "outputs": []
    },
    {
      "cell_type": "code",
      "metadata": {
        "id": "qM10ygibmmUQ",
        "colab_type": "code",
        "colab": {
          "base_uri": "https://localhost:8080/",
          "height": 296
        },
        "outputId": "071d3f77-c65c-414c-cd3d-7021d3801e03"
      },
      "source": [
        "num_self, num_nonself, tuples = get_tuples(\"out_unm_test_2.txt\",ind,test_enumerate,test_labels)\n",
        "sens,spec = sens_spec(num_self,num_nonself,tuples)\n",
        "plot_auc(sens,spec)"
      ],
      "execution_count": 100,
      "outputs": [
        {
          "output_type": "stream",
          "text": [
            "AUC:  0.8962860215053763\n"
          ],
          "name": "stdout"
        },
        {
          "output_type": "display_data",
          "data": {
            "image/png": "[encoded data removed]",
            "text/plain": [
              "<Figure size 432x288 with 1 Axes>"
            ]
          },
          "metadata": {
            "tags": []
          }
        }
      ]
    },
    {
      "cell_type": "code",
      "metadata": {
        "id": "gLaylYnKmmlQ",
        "colab_type": "code",
        "colab": {
          "base_uri": "https://localhost:8080/",
          "height": 296
        },
        "outputId": "3d7ef167-34cc-4b08-d223-2b08a9a5ab88"
      },
      "source": [
        "num_self, num_nonself, tuples = get_tuples(\"out_unm_test_3.txt\",ind,test_enumerate,test_labels)\n",
        "sens,spec = sens_spec(num_self,num_nonself,tuples)\n",
        "plot_auc(sens,spec)"
      ],
      "execution_count": 101,
      "outputs": [
        {
          "output_type": "stream",
          "text": [
            "AUC:  0.9416301075268816\n"
          ],
          "name": "stdout"
        },
        {
          "output_type": "display_data",
          "data": {
            "image/png": "[encoded data removed]",
            "text/plain": [
              "<Figure size 432x288 with 1 Axes>"
            ]
          },
          "metadata": {
            "tags": []
          }
        }
      ]
    },
    {
      "cell_type": "code",
      "metadata": {
        "id": "jO0APxUamm3B",
        "colab_type": "code",
        "colab": {
          "base_uri": "https://localhost:8080/",
          "height": 296
        },
        "outputId": "866520ba-91c0-444a-f1af-c18f22c8a514"
      },
      "source": [
        "num_self, num_nonself, tuples = get_tuples(\"out_unm_test_4.txt\",ind,test_enumerate,test_labels)\n",
        "sens,spec = sens_spec(num_self,num_nonself,tuples)\n",
        "plot_auc(sens,spec)"
      ],
      "execution_count": 113,
      "outputs": [
        {
          "output_type": "stream",
          "text": [
            "AUC:  0.948232258064516\n"
          ],
          "name": "stdout"
        },
        {
          "output_type": "display_data",
          "data": {
            "image/png": "[encoded data removed]",
            "text/plain": [
              "<Figure size 432x288 with 1 Axes>"
            ]
          },
          "metadata": {
            "tags": []
          }
        }
      ]
    },
    {
      "cell_type": "code",
      "metadata": {
        "id": "Gnus9APxmnHN",
        "colab_type": "code",
        "colab": {
          "base_uri": "https://localhost:8080/",
          "height": 296
        },
        "outputId": "fbcc8b6e-bfe1-421e-d081-c7a58ef9b395"
      },
      "source": [
        "num_self, num_nonself, tuples = get_tuples(\"out_unm_test_5.txt\",ind,test_enumerate,test_labels)\n",
        "sens,spec = sens_spec(num_self,num_nonself,tuples)\n",
        "plot_auc(sens,spec)"
      ],
      "execution_count": 114,
      "outputs": [
        {
          "output_type": "stream",
          "text": [
            "AUC:  0.961432258064516\n"
          ],
          "name": "stdout"
        },
        {
          "output_type": "display_data",
          "data": {
            "image/png": "[encoded data removed]",
            "text/plain": [
              "<Figure size 432x288 with 1 Axes>"
            ]
          },
          "metadata": {
            "tags": []
          }
        }
      ]
    }
  ]
}